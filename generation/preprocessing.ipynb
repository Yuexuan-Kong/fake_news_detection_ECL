{
 "cells": [
  {
   "cell_type": "code",
   "execution_count": 10,
   "metadata": {},
   "outputs": [],
   "source": [
    "import pandas as pd\n",
    "import pathlib\n",
    "import sys\n",
    "import numpy as np\n",
    "from functools import partial\n",
    "\n",
    "from preprocessing import *"
   ]
  },
  {
   "cell_type": "code",
   "execution_count": 4,
   "metadata": {},
   "outputs": [],
   "source": [
    "%load_ext autoreload\n",
    "%autoreload 2"
   ]
  },
  {
   "cell_type": "code",
   "execution_count": 5,
   "metadata": {},
   "outputs": [
    {
     "data": {
      "text/html": [
       "<div>\n",
       "<style scoped>\n",
       "    .dataframe tbody tr th:only-of-type {\n",
       "        vertical-align: middle;\n",
       "    }\n",
       "\n",
       "    .dataframe tbody tr th {\n",
       "        vertical-align: top;\n",
       "    }\n",
       "\n",
       "    .dataframe thead th {\n",
       "        text-align: right;\n",
       "    }\n",
       "</style>\n",
       "<table border=\"1\" class=\"dataframe\">\n",
       "  <thead>\n",
       "    <tr style=\"text-align: right;\">\n",
       "      <th></th>\n",
       "      <th>tweet</th>\n",
       "      <th>label</th>\n",
       "    </tr>\n",
       "  </thead>\n",
       "  <tbody>\n",
       "    <tr>\n",
       "      <th>0</th>\n",
       "      <td>just two weeks of coronavirus media coverage a...</td>\n",
       "      <td>0</td>\n",
       "    </tr>\n",
       "    <tr>\n",
       "      <th>1</th>\n",
       "      <td>if you have ever been here congratulations you...</td>\n",
       "      <td>0</td>\n",
       "    </tr>\n",
       "    <tr>\n",
       "      <th>2</th>\n",
       "      <td>if ever used a frat house bathroom immune to t...</td>\n",
       "      <td>0</td>\n",
       "    </tr>\n",
       "    <tr>\n",
       "      <th>3</th>\n",
       "      <td>cocaine cures corona virus this just got inter...</td>\n",
       "      <td>0</td>\n",
       "    </tr>\n",
       "    <tr>\n",
       "      <th>4</th>\n",
       "      <td>almost as if a whole lot of americans have cov...</td>\n",
       "      <td>0</td>\n",
       "    </tr>\n",
       "  </tbody>\n",
       "</table>\n",
       "</div>"
      ],
      "text/plain": [
       "                                               tweet  label\n",
       "0  just two weeks of coronavirus media coverage a...      0\n",
       "1  if you have ever been here congratulations you...      0\n",
       "2  if ever used a frat house bathroom immune to t...      0\n",
       "3  cocaine cures corona virus this just got inter...      0\n",
       "4  almost as if a whole lot of americans have cov...      0"
      ]
     },
     "execution_count": 5,
     "metadata": {},
     "output_type": "execute_result"
    }
   ],
   "source": [
    "data = pd.read_csv('final_merged_dataset.csv',index_col = 0)\n",
    "\n",
    "# Remove emojis :\n",
    "\n",
    "data['tweet'] = data['tweet'].apply(remove_emojis)\n",
    "\n",
    "# Remove retweets :\n",
    "\n",
    "data['tweet'] = data['tweet'].apply(remove_retweets)\n",
    "\n",
    "# Remove mentions :\n",
    "\n",
    "data['tweet'] = data['tweet'].apply(remove_mentions)\n",
    "\n",
    "# Remove urls :\n",
    "\n",
    "data['tweet'] = data['tweet'].apply(remove_urls)\n",
    "\n",
    "# Remove hashtags :\n",
    "\n",
    "data['tweet'] = data['tweet'].apply(remove_hashtags)\n",
    "\n",
    "# Replace slash chars (\\n, \\t, \\r) by space :\n",
    "\n",
    "data['tweet'] = data['tweet'].apply(replace_slash_chars_by_space)\n",
    "\n",
    "# Remove underscore :\n",
    "\n",
    "data['tweet'] = data['tweet'].apply(remove_underscore)\n",
    "\n",
    "# To lowercase :\n",
    "\n",
    "data['tweet'] = data['tweet'].apply(to_lowercase)\n",
    "\n",
    "#Additional cleaning :\n",
    "\n",
    "data['tweet'] = data['tweet'].apply(clean_tokens)\n",
    "\n",
    "# Remove additional white space :\n",
    "\n",
    "data['tweet'] = data['tweet'].apply(remove_additional_space)\n",
    "\n",
    "data.head()"
   ]
  },
  {
   "cell_type": "code",
   "execution_count": 13,
   "metadata": {},
   "outputs": [],
   "source": [
    "fake_df_length = data[data['label'] == 0]['tweet'].apply(lambda x:len(x)).to_frame()\n",
    "fake_df_length = fake_df_length[fake_df_length['tweet'] <= 280]\n",
    "idx_fake = np.random.choice(fake_df_length.index,size=2000)"
   ]
  },
  {
   "cell_type": "code",
   "execution_count": 14,
   "metadata": {},
   "outputs": [],
   "source": [
    "fake_df = data.loc[idx_fake,'tweet']\n",
    "fake_df.to_csv('fake_news.txt',index=False,header=False)"
   ]
  },
  {
   "cell_type": "code",
   "execution_count": null,
   "metadata": {},
   "outputs": [],
   "source": []
  }
 ],
 "metadata": {
  "interpreter": {
   "hash": "8b03d4cd05d71d535371b426da57de743181e37d8974a9636efe6e78873daaed"
  },
  "kernelspec": {
   "display_name": "default:Python",
   "language": "python",
   "name": "conda-env-default-py"
  },
  "language_info": {
   "codemirror_mode": {
    "name": "ipython",
    "version": 3
   },
   "file_extension": ".py",
   "mimetype": "text/x-python",
   "name": "python",
   "nbconvert_exporter": "python",
   "pygments_lexer": "ipython3",
   "version": "3.9.7"
  }
 },
 "nbformat": 4,
 "nbformat_minor": 4
}
