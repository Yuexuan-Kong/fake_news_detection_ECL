{
 "cells": [
  {
   "cell_type": "code",
   "execution_count": 22,
   "metadata": {},
   "outputs": [],
   "source": [
    "import pandas as pd\n",
    "import pathlib\n",
    "import sys\n",
    "from sklearn.model_selection import train_test_split\n",
    "import numpy as np\n",
    "\n",
    "path = str(pathlib.Path().resolve().parent)\n",
    "sys.path.append(path)\n",
    "sys.path.append(path+'/src/')\n",
    "\n",
    "from src.fasttext_model import (\n",
    "    process_csv,\n",
    "    train_model,\n",
    "    get_model_accuracy,\n",
    "    predict_model\n",
    ")"
   ]
  },
  {
   "cell_type": "code",
   "execution_count": 11,
   "metadata": {},
   "outputs": [
    {
     "name": "stdout",
     "output_type": "stream",
     "text": [
      "The autoreload extension is already loaded. To reload it, use:\n",
      "  %reload_ext autoreload\n"
     ]
    }
   ],
   "source": [
    "%load_ext autoreload\n",
    "%autoreload 2"
   ]
  },
  {
   "cell_type": "code",
   "execution_count": 3,
   "metadata": {},
   "outputs": [],
   "source": [
    "data = pd.read_csv(path + '/data/final_merged_dataset.csv',index_col = 0)"
   ]
  },
  {
   "cell_type": "code",
   "execution_count": 4,
   "metadata": {},
   "outputs": [],
   "source": [
    "train_df, val_df = train_test_split(data,test_size=0.1,random_state=1)"
   ]
  },
  {
   "cell_type": "code",
   "execution_count": 5,
   "metadata": {},
   "outputs": [
    {
     "data": {
      "text/html": [
       "<div>\n",
       "<style scoped>\n",
       "    .dataframe tbody tr th:only-of-type {\n",
       "        vertical-align: middle;\n",
       "    }\n",
       "\n",
       "    .dataframe tbody tr th {\n",
       "        vertical-align: top;\n",
       "    }\n",
       "\n",
       "    .dataframe thead th {\n",
       "        text-align: right;\n",
       "    }\n",
       "</style>\n",
       "<table border=\"1\" class=\"dataframe\">\n",
       "  <thead>\n",
       "    <tr style=\"text-align: right;\">\n",
       "      <th></th>\n",
       "      <th>tweet</th>\n",
       "    </tr>\n",
       "    <tr>\n",
       "      <th>label</th>\n",
       "      <th></th>\n",
       "    </tr>\n",
       "  </thead>\n",
       "  <tbody>\n",
       "    <tr>\n",
       "      <th>0</th>\n",
       "      <td>1461</td>\n",
       "    </tr>\n",
       "    <tr>\n",
       "      <th>1</th>\n",
       "      <td>1740</td>\n",
       "    </tr>\n",
       "  </tbody>\n",
       "</table>\n",
       "</div>"
      ],
      "text/plain": [
       "       tweet\n",
       "label       \n",
       "0       1461\n",
       "1       1740"
      ]
     },
     "execution_count": 5,
     "metadata": {},
     "output_type": "execute_result"
    }
   ],
   "source": [
    "# Check label distribution in validation set:\n",
    "val_df.groupby('label').count()"
   ]
  },
  {
   "cell_type": "code",
   "execution_count": 6,
   "metadata": {},
   "outputs": [],
   "source": [
    "train_file_path = process_csv(train_df,'train',path + '/data')\n",
    "val_file_path = process_csv(val_df,'val',path + '/data')"
   ]
  },
  {
   "cell_type": "markdown",
   "metadata": {},
   "source": [
    "Check params here : https://fasttext.cc/docs/en/python-module.html#train_supervised-parameters"
   ]
  },
  {
   "cell_type": "code",
   "execution_count": 7,
   "metadata": {},
   "outputs": [],
   "source": [
    "model = train_model(train_file_path,lr=0.1, epoch=20)"
   ]
  },
  {
   "cell_type": "code",
   "execution_count": 8,
   "metadata": {},
   "outputs": [
    {
     "name": "stdout",
     "output_type": "stream",
     "text": [
      "Training accuracy : 99.99 %\n",
      "Validation accuracy : 89.25 %\n"
     ]
    }
   ],
   "source": [
    "train_acc = get_model_accuracy(model,train_file_path)\n",
    "val_acc = get_model_accuracy(model,val_file_path)\n",
    "print(f\"Training accuracy : {100*train_acc:.2f} %\")\n",
    "print(f\"Validation accuracy : {100*val_acc:.2f} %\")"
   ]
  },
  {
   "cell_type": "markdown",
   "metadata": {},
   "source": [
    "Testing the model with hand-made examples :"
   ]
  },
  {
   "cell_type": "code",
   "execution_count": 13,
   "metadata": {},
   "outputs": [
    {
     "data": {
      "text/plain": [
       "[0]"
      ]
     },
     "execution_count": 13,
     "metadata": {},
     "output_type": "execute_result"
    }
   ],
   "source": [
    "predict_model(model,['Covid-19 was created in a lab in China'])"
   ]
  },
  {
   "cell_type": "code",
   "execution_count": 44,
   "metadata": {},
   "outputs": [
    {
     "data": {
      "text/plain": [
       "[1]"
      ]
     },
     "execution_count": 44,
     "metadata": {},
     "output_type": "execute_result"
    }
   ],
   "source": [
    "predict_model(model,['Covid-19 : 10000 new cases today'])"
   ]
  },
  {
   "cell_type": "code",
   "execution_count": 45,
   "metadata": {},
   "outputs": [
    {
     "data": {
      "text/plain": [
       "[0]"
      ]
     },
     "execution_count": 45,
     "metadata": {},
     "output_type": "execute_result"
    }
   ],
   "source": [
    "predict_model(model,['Donald Trump said : \"Covid-19 has caused many deaths so far\"'])"
   ]
  },
  {
   "cell_type": "markdown",
   "metadata": {},
   "source": [
    "Interesting !"
   ]
  },
  {
   "cell_type": "code",
   "execution_count": 16,
   "metadata": {},
   "outputs": [
    {
     "data": {
      "text/plain": [
       "[0]"
      ]
     },
     "execution_count": 16,
     "metadata": {},
     "output_type": "execute_result"
    }
   ],
   "source": [
    "predict_model(model,['Bill Gates has just launched his 5G covid chips program'])"
   ]
  },
  {
   "cell_type": "code",
   "execution_count": 24,
   "metadata": {},
   "outputs": [],
   "source": [
    "val_text = list(val_df['tweet'].values)\n",
    "val_labels = list(val_df['label'].values)\n",
    "val_pred = predict_model(model,val_text)"
   ]
  },
  {
   "cell_type": "code",
   "execution_count": 37,
   "metadata": {},
   "outputs": [],
   "source": [
    "diff = np.array(val_labels) - np.array(val_pred)\n",
    "idxs = np.where(diff != 0)[0]"
   ]
  },
  {
   "cell_type": "markdown",
   "metadata": {},
   "source": [
    "Misclassified examples :"
   ]
  },
  {
   "cell_type": "code",
   "execution_count": 41,
   "metadata": {},
   "outputs": [
    {
     "name": "stdout",
     "output_type": "stream",
     "text": [
      "Tweet 1 \n",
      ": CORONAVIRUS BY THE NUMBERS IN MICHIGAN(*as of 4pm May 1):\n",
      "77 NEW DEATHS LINKED TO COVID-19.\n",
      "977 NEWLY CONFIRMED CASES STATEWIDE.\n",
      "42,356-TOTAL CONFIRMED  CASES.\n",
      "3,866 TOTAL COVID-19 DEATHS. https://t.co/vboEDKtqY8\n",
      "Tweet 2 \n",
      ": The consumption of pig causes COVID-19 entry into Indonesia.\n",
      "Tweet 3 \n",
      ": #ZuckOff #TakeItFromADoctor and a video with false claims on mask wearing and #hydroxychloroquine. https://t.co/0WH13B5iqT https://t.co/04eETBikNd\n",
      "Tweet 4 \n",
      ": Seriously??? This was 3 yrs ago and we all have seen this already. And V said his fave hyung is jin. So dont you ever spread rumors about the relationship of jin and tae..  Soo stop spreading news like as if it was new. Screw you koreaboo https://t.co/2YL2mHsRdD\n",
      "Tweet 5 \n",
      ": @geoallison Today's official figures.\n",
      "\n",
      "A recent BMJ review used a False Positive rate of 5%.\n",
      "\n",
      "Public Health England came up with slightly under 2%.\n",
      "\n",
      "A German study found false positive rates rose from 1.4% to 2.2%-7.6% when a Hcov was present (alpha and betacoronaviruses) https://t.co/bIW6oNiynW\n",
      "Tweet 6 \n",
      ": The NewsThump guide to places you can visit during the national lockdown https://t.co/Rv9clSG0ck https://t.co/6ZnfYYDJta\n",
      "Tweet 7 \n",
      ": Just finished reading Nicholas Nickleby and then came across this in the Appendices... apt! #NotMovingOnTillDomHasGone https://t.co/EntGNVN13O\n",
      "Tweet 8 \n",
      ": Bollywood actor Aamir Khan actually found a unique way to help the poor people.He filled a truck carrying a bag of flour and went to a locality and called people from their homes, and it was said that only 1 kg. You will get flour…\n",
      "Tweet 9 \n",
      ": RT @CDCgov: #COVID19 is the first pandemic caused by a new coronavirus. In the past, pandemics of respiratory disease have progressed in ph…\n",
      "Tweet 10 \n",
      ": It didn’t have to be this bad. Donald Trump utterly failed to prepare for this pandemic and delayed in taking the necessary steps to safeguard our nation against the near-worst-case-economic scenario we are now living. https://t.co/oFOuf4GbeB\n"
     ]
    }
   ],
   "source": [
    "for k in range(10):\n",
    "    print(f\"Tweet {k+1} \\n: {val_df.iloc[idxs[k]]['tweet']}\")"
   ]
  }
 ],
 "metadata": {
  "interpreter": {
   "hash": "8b03d4cd05d71d535371b426da57de743181e37d8974a9636efe6e78873daaed"
  },
  "kernelspec": {
   "display_name": "Python 3.9.6 64-bit",
   "language": "python",
   "name": "python3"
  },
  "language_info": {
   "codemirror_mode": {
    "name": "ipython",
    "version": 3
   },
   "file_extension": ".py",
   "mimetype": "text/x-python",
   "name": "python",
   "nbconvert_exporter": "python",
   "pygments_lexer": "ipython3",
   "version": "3.9.6"
  },
  "orig_nbformat": 4
 },
 "nbformat": 4,
 "nbformat_minor": 2
}
