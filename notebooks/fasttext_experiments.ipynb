{
 "cells": [
  {
   "cell_type": "code",
   "execution_count": 23,
   "metadata": {},
   "outputs": [],
   "source": [
    "import pandas as pd\n",
    "import pathlib\n",
    "import sys\n",
    "from sklearn.model_selection import train_test_split\n",
    "import numpy as np\n",
    "\n",
    "path = str(pathlib.Path().resolve().parent)\n",
    "sys.path.append(path)\n",
    "sys.path.append(path+'/src/')\n",
    "\n",
    "from src.fasttext_model import (\n",
    "    process_csv,\n",
    "    train_model,\n",
    "    get_model_accuracy,\n",
    "    predict_model,\n",
    "    load_model_from_path\n",
    ")\n",
    "from src.scraper import get_today_tweets"
   ]
  },
  {
   "cell_type": "code",
   "execution_count": 24,
   "metadata": {},
   "outputs": [
    {
     "name": "stdout",
     "output_type": "stream",
     "text": [
      "The autoreload extension is already loaded. To reload it, use:\n",
      "  %reload_ext autoreload\n"
     ]
    }
   ],
   "source": [
    "%load_ext autoreload\n",
    "%autoreload 2"
   ]
  },
  {
   "cell_type": "code",
   "execution_count": 3,
   "metadata": {},
   "outputs": [],
   "source": [
    "data = pd.read_csv(path + '/data/final_merged_dataset.csv',index_col = 0)"
   ]
  },
  {
   "cell_type": "code",
   "execution_count": 4,
   "metadata": {},
   "outputs": [],
   "source": [
    "train_df, val_df = train_test_split(data,test_size=0.1,random_state=1)"
   ]
  },
  {
   "cell_type": "code",
   "execution_count": 5,
   "metadata": {},
   "outputs": [
    {
     "data": {
      "text/html": [
       "<div>\n",
       "<style scoped>\n",
       "    .dataframe tbody tr th:only-of-type {\n",
       "        vertical-align: middle;\n",
       "    }\n",
       "\n",
       "    .dataframe tbody tr th {\n",
       "        vertical-align: top;\n",
       "    }\n",
       "\n",
       "    .dataframe thead th {\n",
       "        text-align: right;\n",
       "    }\n",
       "</style>\n",
       "<table border=\"1\" class=\"dataframe\">\n",
       "  <thead>\n",
       "    <tr style=\"text-align: right;\">\n",
       "      <th></th>\n",
       "      <th>tweet</th>\n",
       "    </tr>\n",
       "    <tr>\n",
       "      <th>label</th>\n",
       "      <th></th>\n",
       "    </tr>\n",
       "  </thead>\n",
       "  <tbody>\n",
       "    <tr>\n",
       "      <th>0</th>\n",
       "      <td>1461</td>\n",
       "    </tr>\n",
       "    <tr>\n",
       "      <th>1</th>\n",
       "      <td>1740</td>\n",
       "    </tr>\n",
       "  </tbody>\n",
       "</table>\n",
       "</div>"
      ],
      "text/plain": [
       "       tweet\n",
       "label       \n",
       "0       1461\n",
       "1       1740"
      ]
     },
     "execution_count": 5,
     "metadata": {},
     "output_type": "execute_result"
    }
   ],
   "source": [
    "# Check label distribution in validation set:\n",
    "val_df.groupby('label').count()"
   ]
  },
  {
   "cell_type": "code",
   "execution_count": 6,
   "metadata": {},
   "outputs": [],
   "source": [
    "train_file_path = process_csv(train_df,'train',path + '/data')\n",
    "val_file_path = process_csv(val_df,'val',path + '/data')"
   ]
  },
  {
   "cell_type": "markdown",
   "metadata": {},
   "source": [
    "Check params here : https://fasttext.cc/docs/en/python-module.html#train_supervised-parameters"
   ]
  },
  {
   "cell_type": "code",
   "execution_count": 9,
   "metadata": {},
   "outputs": [],
   "source": [
    "model = train_model(\n",
    "    train_file_path,\n",
    "    lr=0.1,\n",
    "    epoch=10,\n",
    "    wordNgrams=2,\n",
    "    )"
   ]
  },
  {
   "cell_type": "code",
   "execution_count": 12,
   "metadata": {},
   "outputs": [
    {
     "name": "stdout",
     "output_type": "stream",
     "text": [
      "Training accuracy : 100.00 %\n",
      "Validation accuracy : 89.85 %\n"
     ]
    }
   ],
   "source": [
    "train_acc = get_model_accuracy(model,train_file_path)\n",
    "val_acc = get_model_accuracy(model,val_file_path)\n",
    "print(f\"Training accuracy : {100*train_acc:.2f} %\")\n",
    "print(f\"Validation accuracy : {100*val_acc:.2f} %\")"
   ]
  },
  {
   "cell_type": "code",
   "execution_count": 9,
   "metadata": {},
   "outputs": [],
   "source": [
    "model.save_model(path + \"/models/fasttext.bin\")"
   ]
  },
  {
   "cell_type": "code",
   "execution_count": 11,
   "metadata": {},
   "outputs": [
    {
     "name": "stderr",
     "output_type": "stream",
     "text": [
      "Warning : `load_model` does not return WordVectorModel or SupervisedModel any more, but a `FastText` object which is very similar.\n"
     ]
    }
   ],
   "source": [
    "model = load_model_from_path(path + \"/models/fasttext.bin\")"
   ]
  },
  {
   "cell_type": "markdown",
   "metadata": {},
   "source": [
    "Testing the model with hand-made examples :"
   ]
  },
  {
   "cell_type": "code",
   "execution_count": 11,
   "metadata": {},
   "outputs": [
    {
     "data": {
      "text/plain": [
       "[0]"
      ]
     },
     "execution_count": 11,
     "metadata": {},
     "output_type": "execute_result"
    }
   ],
   "source": [
    "predict_model(model,['Covid-19 was created in a lab in China'])"
   ]
  },
  {
   "cell_type": "code",
   "execution_count": 12,
   "metadata": {},
   "outputs": [
    {
     "data": {
      "text/plain": [
       "[1]"
      ]
     },
     "execution_count": 12,
     "metadata": {},
     "output_type": "execute_result"
    }
   ],
   "source": [
    "predict_model(model,['Covid-19 : 10000 new cases today'])"
   ]
  },
  {
   "cell_type": "code",
   "execution_count": 40,
   "metadata": {},
   "outputs": [
    {
     "data": {
      "text/plain": [
       "[0]"
      ]
     },
     "execution_count": 40,
     "metadata": {},
     "output_type": "execute_result"
    }
   ],
   "source": [
    "predict_model(model,['Donald Trump said : \"Covid-19 has caused many deaths so far\"'])"
   ]
  },
  {
   "cell_type": "markdown",
   "metadata": {},
   "source": [
    "Interesting !"
   ]
  },
  {
   "cell_type": "code",
   "execution_count": 41,
   "metadata": {},
   "outputs": [
    {
     "data": {
      "text/plain": [
       "[0]"
      ]
     },
     "execution_count": 41,
     "metadata": {},
     "output_type": "execute_result"
    }
   ],
   "source": [
    "predict_model(model,['Bill Gates has just launched his 5G covid chips program'])"
   ]
  },
  {
   "cell_type": "code",
   "execution_count": 25,
   "metadata": {},
   "outputs": [
    {
     "name": "stdout",
     "output_type": "stream",
     "text": [
      "Created at : 2022-03-24T08:45:03.000Z\n",
      "\n",
      "Tweet : There's just one month to go until #CleanEx2022!\n",
      "\n",
      "We are delighted to be exhibiting in person for the first time in two years following the challenges that covid brought to the laundry industry.\n",
      "\n",
      "Find us at Stand 38 and say hello if you're attending 😊\n",
      "\n",
      "#ukmfg #laundry https://t.co/eDNuRD3kkM\n",
      "Prediction : [1]\n",
      "Created at : 2022-03-24T08:45:03.000Z\n",
      "\n",
      "Tweet : The number of children missing school for Covid reasons is rising rapidly | Wales Online https://t.co/BZuzRwtRBI https://t.co/lMsuvcwVza\n",
      "Prediction : [1]\n",
      "Created at : 2022-03-24T08:45:02.000Z\n",
      "\n",
      "Tweet : NOOOOOOOOOO HOBI COM COVID?????? QUEEEEEE BASTA NOOOOO\n",
      "Prediction : [0]\n",
      "Created at : 2022-03-24T08:45:01.000Z\n",
      "\n",
      "Tweet : Muere por Covid Stephen Wilhite, creador del formato GIF https://t.co/VwiJ7jprAA\n",
      "Prediction : [0]\n",
      "Created at : 2022-03-24T08:45:01.000Z\n",
      "\n",
      "Tweet : Many Indians are cutting down on fried food and even vegetables as the Ukraine war inflates the prices of items from edible oils to fuel, threatening a sputtering recovery in the consumption-based economy after two years battling COVID-19.\n",
      "\n",
      "READ: https://t.co/7SWVeaq3De https://t.co/3Rm3RR7uj4\n",
      "Prediction : [1]\n",
      "Created at : 2022-03-24T08:45:01.000Z\n",
      "\n",
      "Tweet : ‘Don’t hand the ball back to Covid,’ says double-transplant patient footballer https://t.co/JDk0PidI2E\n",
      "Prediction : [0]\n",
      "Created at : 2022-03-24T08:45:00.000Z\n",
      "\n",
      "Tweet : 24 March 2022\n",
      "\n",
      "Condolences to the families of the 7 people who passed away with covid in NSW.\n",
      "\n",
      "4 x 💉💉💉\n",
      "3 x 💉💉\n",
      "\n",
      "Any wonder Chant is no longer doing pressers on these stats? If I didn’t post it would anyone know? \n",
      "\n",
      "RIP 🙏🏻 https://t.co/n3vTxsfIQs\n",
      "Prediction : [0]\n",
      "Created at : 2022-03-24T08:45:00.000Z\n",
      "\n",
      "Tweet : How do you reflect two years on?\n",
      "https://t.co/d0d4RSlkYo\n",
      "Prediction : [1]\n",
      "Created at : 2022-03-24T08:45:00.000Z\n",
      "\n",
      "Tweet : The online portal, which will close on June 23, 2022, is the easiest and most efficient way for Personal Assistants to receive the payment https://t.co/W8JqEHxgo9\n",
      "Prediction : [1]\n",
      "Created at : 2022-03-24T08:45:00.000Z\n",
      "\n",
      "Tweet : Today is World TB Day #WTBD, an opportunity to be reminded that TB remains an important public health issue - both globally, and locally. We know many cases are undetected and untreated - so remember to \"Think TB\" - not every cough is COVID-19. https://t.co/N0FMJ8P1Wz\n",
      "Prediction : [1]\n"
     ]
    }
   ],
   "source": [
    "today_tweets = get_today_tweets(\n",
    "    \"COVID OR COVID19\",\n",
    "    max_results=10\n",
    "    )\n",
    "for tweet in today_tweets:\n",
    "    print(f\"Created at : {tweet['created_at']}\\n\")\n",
    "    tweet = tweet['text']\n",
    "    print(f\"Tweet : {tweet}\")\n",
    "    print(f\"Prediction : {predict_model(model,[tweet])}\")"
   ]
  },
  {
   "cell_type": "code",
   "execution_count": 16,
   "metadata": {},
   "outputs": [],
   "source": [
    "val_text = list(val_df['tweet'].values)\n",
    "val_labels = list(val_df['label'].values)\n",
    "val_pred = predict_model(model,val_text)"
   ]
  },
  {
   "cell_type": "code",
   "execution_count": 17,
   "metadata": {},
   "outputs": [],
   "source": [
    "diff = np.array(val_labels) - np.array(val_pred)\n",
    "idxs = np.where(diff != 0)[0]"
   ]
  },
  {
   "cell_type": "markdown",
   "metadata": {},
   "source": [
    "Misclassified examples :"
   ]
  },
  {
   "cell_type": "code",
   "execution_count": 19,
   "metadata": {},
   "outputs": [
    {
     "name": "stdout",
     "output_type": "stream",
     "text": [
      "Tweet 1 \n",
      ": CORONAVIRUS BY THE NUMBERS IN MICHIGAN(*as of 4pm May 1):\n",
      "77 NEW DEATHS LINKED TO COVID-19.\n",
      "977 NEWLY CONFIRMED CASES STATEWIDE.\n",
      "42,356-TOTAL CONFIRMED  CASES.\n",
      "3,866 TOTAL COVID-19 DEATHS. https://t.co/vboEDKtqY8\n",
      "Original label : 1\n",
      "Model prediction : 0\n",
      "---------------------------------------------\n",
      "Tweet 2 \n",
      ": The consumption of pig causes COVID-19 entry into Indonesia.\n",
      "Original label : 0\n",
      "Model prediction : 1\n",
      "---------------------------------------------\n",
      "Tweet 3 \n",
      ": #ZuckOff #TakeItFromADoctor and a video with false claims on mask wearing and #hydroxychloroquine. https://t.co/0WH13B5iqT https://t.co/04eETBikNd\n",
      "Original label : 1\n",
      "Model prediction : 0\n",
      "---------------------------------------------\n",
      "Tweet 4 \n",
      ": Seriously??? This was 3 yrs ago and we all have seen this already. And V said his fave hyung is jin. So dont you ever spread rumors about the relationship of jin and tae..  Soo stop spreading news like as if it was new. Screw you koreaboo https://t.co/2YL2mHsRdD\n",
      "Original label : 1\n",
      "Model prediction : 0\n",
      "---------------------------------------------\n",
      "Tweet 5 \n",
      ": @geoallison Today's official figures.\n",
      "\n",
      "A recent BMJ review used a False Positive rate of 5%.\n",
      "\n",
      "Public Health England came up with slightly under 2%.\n",
      "\n",
      "A German study found false positive rates rose from 1.4% to 2.2%-7.6% when a Hcov was present (alpha and betacoronaviruses) https://t.co/bIW6oNiynW\n",
      "Original label : 0\n",
      "Model prediction : 1\n",
      "---------------------------------------------\n",
      "Tweet 6 \n",
      ": Just finished reading Nicholas Nickleby and then came across this in the Appendices... apt! #NotMovingOnTillDomHasGone https://t.co/EntGNVN13O\n",
      "Original label : 1\n",
      "Model prediction : 0\n",
      "---------------------------------------------\n",
      "Tweet 7 \n",
      ": ???Only 6% of the people actually died from COVID.??� The others ???died from other reasons.??�\n",
      "Original label : 0\n",
      "Model prediction : 1\n",
      "---------------------------------------------\n",
      "Tweet 8 \n",
      ": Bollywood actor Aamir Khan actually found a unique way to help the poor people.He filled a truck carrying a bag of flour and went to a locality and called people from their homes, and it was said that only 1 kg. You will get flour…\n",
      "Original label : 0\n",
      "Model prediction : 1\n",
      "---------------------------------------------\n",
      "Tweet 9 \n",
      ": RT @CDCgov: #COVID19 is the first pandemic caused by a new coronavirus. In the past, pandemics of respiratory disease have progressed in ph…\n",
      "Original label : 1\n",
      "Model prediction : 0\n",
      "---------------------------------------------\n",
      "Tweet 10 \n",
      ": The Stanford hospital board: The new Coronavirus may not show sign of infection for many days.How can one know if he/she is infected?\n",
      "Original label : 0\n",
      "Model prediction : 1\n",
      "---------------------------------------------\n"
     ]
    }
   ],
   "source": [
    "for k in range(10):\n",
    "    print(f\"Tweet {k+1} \\n: {val_df.iloc[idxs[k]]['tweet']}\")\n",
    "    print(f\"Original label : {val_labels[idxs[k]]}\")\n",
    "    print(f\"Model prediction : {val_pred[idxs[k]]}\")\n",
    "    print(\"---------------------------------------------\")"
   ]
  },
  {
   "cell_type": "code",
   "execution_count": null,
   "metadata": {},
   "outputs": [],
   "source": []
  }
 ],
 "metadata": {
  "interpreter": {
   "hash": "8b03d4cd05d71d535371b426da57de743181e37d8974a9636efe6e78873daaed"
  },
  "kernelspec": {
   "display_name": "Python 3.9.6 64-bit",
   "language": "python",
   "name": "python3"
  },
  "language_info": {
   "codemirror_mode": {
    "name": "ipython",
    "version": 3
   },
   "file_extension": ".py",
   "mimetype": "text/x-python",
   "name": "python",
   "nbconvert_exporter": "python",
   "pygments_lexer": "ipython3",
   "version": "3.9.6"
  },
  "orig_nbformat": 4
 },
 "nbformat": 4,
 "nbformat_minor": 2
}
