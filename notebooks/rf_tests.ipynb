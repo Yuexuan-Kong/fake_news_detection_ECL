{
 "cells": [
  {
   "cell_type": "code",
   "execution_count": 13,
   "metadata": {},
   "outputs": [],
   "source": [
    "import warnings\n",
    "warnings.filterwarnings('ignore')\n",
    "import pandas as pd\n",
    "import re\n",
    "import nltk\n",
    "from nltk.corpus import stopwords\n",
    "from nltk.tokenize import word_tokenize\n",
    "import matplotlib.pyplot as plt\n",
    "\n",
    "import sys\n",
    "import os\n",
    "\n",
    "module_path = os.path.abspath(os.path.join('..'))\n",
    "if module_path not in sys.path:\n",
    "    sys.path.append(module_path)\n",
    "    \n",
    "from src.preprocessing import preprocess"
   ]
  },
  {
   "cell_type": "code",
   "execution_count": 14,
   "metadata": {},
   "outputs": [
    {
     "name": "stdout",
     "output_type": "stream",
     "text": [
      "       index                                              tweet  label  \\\n",
      "31996  31996  https://t.co/inx3HTRcfR Smell Diminishes by Da...      1   \n",
      "31997  31997  COVID-19 outbreak on the Diamond Princess crui...      1   \n",
      "31998  31998  Coronavirus China Italy | Coronavirus Outbreak...      1   \n",
      "31999  31999  Coronavirus Daily Digest: April 13, 2020\\nhttp...      1   \n",
      "32000  32000  Detention centers are notorious for having poo...      1   \n",
      "\n",
      "                                              preprocess  \n",
      "31996        smell diminishes day 3 covid-19, study says  \n",
      "31997  covid-19 outbreak diamond princess cruise ship...  \n",
      "31998  coronavirus china italy | coronavirus outbreak...  \n",
      "31999           coronavirus daily digest: april 13, 2020  \n",
      "32000  detention centers notorious having poor condit...  \n"
     ]
    }
   ],
   "source": [
    "data_path = \"../data/\"\n",
    "database = \"final_merged_dataset.csv\"\n",
    "df = pd.read_csv(data_path + database)\n",
    "df['Unnamed: 0'] = [i for i in range(len(df))] #c'est moche mais ca marche c'est la vie \n",
    "df.columns = ['index', 'tweet', 'label']\n",
    "\n",
    "_, _, df = preprocess(df)\n",
    "print(df.tail())"
   ]
  },
  {
   "cell_type": "code",
   "execution_count": 15,
   "metadata": {},
   "outputs": [],
   "source": [
    "from sklearn.feature_extraction.text import CountVectorizer\n",
    "corpus = df['preprocess'] # use 'preprocess' for preprocessed tweets, 'tweets' for unpreprocessed\n",
    "vectorizer = CountVectorizer(max_features = 100)\n",
    "vectorizer.fit(corpus)\n",
    "X = vectorizer.transform(corpus).toarray()\n",
    "Y = df['label']"
   ]
  },
  {
   "cell_type": "markdown",
   "metadata": {},
   "source": [
    "When we used TfIdf, performance dropped, so we just dropped it as well."
   ]
  },
  {
   "cell_type": "code",
   "execution_count": 17,
   "metadata": {},
   "outputs": [],
   "source": [
    "from sklearn.feature_extraction.text import TfidfTransformer\n",
    "\n",
    "transformer = TfidfTransformer()\n",
    "transformer.fit(X)\n",
    "X = transformer.transform(X).toarray()"
   ]
  },
  {
   "cell_type": "code",
   "execution_count": 18,
   "metadata": {},
   "outputs": [
    {
     "name": "stdout",
     "output_type": "stream",
     "text": [
      "Mean : 0.78\n",
      "Std :  0.02\n"
     ]
    }
   ],
   "source": [
    "from sklearn.ensemble import RandomForestClassifier \n",
    "from sklearn.model_selection import KFold, cross_val_score\n",
    "\n",
    "clf = RandomForestClassifier(n_estimators=50)\n",
    "\n",
    "score = cross_val_score(clf, X , Y)\n",
    "print('Mean : %.2f' % score.mean())\n",
    "print('Std :  %.2f' % score.std())"
   ]
  },
  {
   "cell_type": "code",
   "execution_count": 19,
   "metadata": {},
   "outputs": [
    {
     "name": "stdout",
     "output_type": "stream",
     "text": [
      "Fold :  1\n",
      "              precision    recall  f1-score   support\n",
      "\n",
      "           0       0.80      0.86      0.83      2702\n",
      "           1       0.89      0.85      0.87      3699\n",
      "\n",
      "    accuracy                           0.85      6401\n",
      "   macro avg       0.85      0.85      0.85      6401\n",
      "weighted avg       0.85      0.85      0.85      6401\n",
      "\n",
      "Fold :  2\n",
      "              precision    recall  f1-score   support\n",
      "\n",
      "           0       0.81      0.86      0.83      2748\n",
      "           1       0.89      0.84      0.87      3652\n",
      "\n",
      "    accuracy                           0.85      6400\n",
      "   macro avg       0.85      0.85      0.85      6400\n",
      "weighted avg       0.85      0.85      0.85      6400\n",
      "\n",
      "Fold :  3\n",
      "              precision    recall  f1-score   support\n",
      "\n",
      "           0       0.80      0.86      0.83      2690\n",
      "           1       0.89      0.85      0.87      3710\n",
      "\n",
      "    accuracy                           0.85      6400\n",
      "   macro avg       0.84      0.85      0.85      6400\n",
      "weighted avg       0.85      0.85      0.85      6400\n",
      "\n",
      "Fold :  4\n",
      "              precision    recall  f1-score   support\n",
      "\n",
      "           0       0.79      0.85      0.82      2671\n",
      "           1       0.89      0.84      0.86      3729\n",
      "\n",
      "    accuracy                           0.85      6400\n",
      "   macro avg       0.84      0.85      0.84      6400\n",
      "weighted avg       0.85      0.85      0.85      6400\n",
      "\n",
      "Fold :  5\n",
      "              precision    recall  f1-score   support\n",
      "\n",
      "           0       0.82      0.86      0.84      2765\n",
      "           1       0.89      0.85      0.87      3635\n",
      "\n",
      "    accuracy                           0.86      6400\n",
      "   macro avg       0.85      0.86      0.86      6400\n",
      "weighted avg       0.86      0.86      0.86      6400\n",
      "\n"
     ]
    }
   ],
   "source": [
    "from sklearn.metrics import classification_report\n",
    "folds = 5\n",
    "kf = KFold(n_splits=folds, shuffle=True, random_state=0) \n",
    "\n",
    "count = 0\n",
    "for train_index, test_index in kf.split(X,Y):\n",
    "    count += 1\n",
    "    X_train, X_test = X[train_index, :], X[test_index, :]\n",
    "    Y_train, Y_test = Y[train_index], Y[test_index]\n",
    "               \n",
    "    clf.fit(X_train, Y_train)\n",
    "    Y_pred = clf.predict(X_test)\n",
    "\n",
    "    print('Fold : ', count)\n",
    "    print(classification_report(Y_pred, Y_test))"
   ]
  },
  {
   "cell_type": "markdown",
   "metadata": {},
   "source": [
    "Avec train_test_split classique :"
   ]
  },
  {
   "cell_type": "code",
   "execution_count": 20,
   "metadata": {},
   "outputs": [
    {
     "name": "stdout",
     "output_type": "stream",
     "text": [
      "              precision    recall  f1-score   support\n",
      "\n",
      "           0       0.81      0.86      0.83      3388\n",
      "           1       0.89      0.85      0.87      4613\n",
      "\n",
      "    accuracy                           0.85      8001\n",
      "   macro avg       0.85      0.85      0.85      8001\n",
      "weighted avg       0.85      0.85      0.85      8001\n",
      "\n"
     ]
    }
   ],
   "source": [
    "from sklearn.model_selection import train_test_split\n",
    "\n",
    "X_train, X_test, Y_train, Y_test = train_test_split(X, Y, random_state = 0)\n",
    "clf.fit(X_train, Y_train)\n",
    "Y_pred = clf.predict(X_test)\n",
    "\n",
    "print(classification_report(Y_pred, Y_test))"
   ]
  },
  {
   "cell_type": "code",
   "execution_count": 21,
   "metadata": {},
   "outputs": [
    {
     "data": {
      "text/plain": [
       "(array([10869.,     0.,     0.,     0.,     0.,     0.,     0.,     0.,\n",
       "            0., 13131.]),\n",
       " array([0. , 0.1, 0.2, 0.3, 0.4, 0.5, 0.6, 0.7, 0.8, 0.9, 1. ]),\n",
       " <BarContainer object of 10 artists>)"
      ]
     },
     "execution_count": 21,
     "metadata": {},
     "output_type": "execute_result"
    },
    {
     "data": {
      "image/png": "[encoded data removed]",
      "text/plain": [
       "<Figure size 432x288 with 1 Axes>"
      ]
     },
     "metadata": {
      "needs_background": "light"
     },
     "output_type": "display_data"
    }
   ],
   "source": [
    "plt.hist(Y_train)"
   ]
  },
  {
   "cell_type": "code",
   "execution_count": 22,
   "metadata": {},
   "outputs": [
    {
     "name": "stdout",
     "output_type": "stream",
     "text": [
      "[[2911  705]\n",
      " [ 477 3908]]\n"
     ]
    }
   ],
   "source": [
    "from sklearn.metrics import confusion_matrix\n",
    "print(confusion_matrix(Y_test, Y_pred))"
   ]
  },
  {
   "cell_type": "code",
   "execution_count": 23,
   "metadata": {},
   "outputs": [
    {
     "name": "stdout",
     "output_type": "stream",
     "text": [
      "      location                                               text  value  \\\n",
      "0       7745.0  Polish government confiscated a coronavirus te...    0.0   \n",
      "1      28072.0  Missing link in coronavirus jump from bats to ...    1.0   \n",
      "2      22301.0  @RickeyLarry @StevO_1960 @Vincentjackson_ @Hub...    0.0   \n",
      "3      24568.0  Surgeons at Northwestern announced that they p...    1.0   \n",
      "4      31383.0  Monitoring and Evaluation Logic Model. \\nPhoto...    1.0   \n",
      "...        ...                                                ...    ...   \n",
      "1177   12051.0  This is a recent picture where hospitals show ...    0.0   \n",
      "1178   10707.0  Countries were purchasing Covid-19 test kits i...    0.0   \n",
      "1179   21602.0  @realDonaldTrump “We’ve tested more than every...    0.0   \n",
      "1180   13340.0  Holy Qur'an was banned in China now ban\\r\\nHas...    0.0   \n",
      "1181   14358.0  Delhi Public School Selling Face Masks For Rs....    0.0   \n",
      "\n",
      "      predicted                                         preprocess  \n",
      "0           1.0  polish government confiscated coronavirus test...  \n",
      "1           0.0  missing link coronavirus jump bats humans pang...  \n",
      "2           1.0  lol. let’s low hanging fruit... “the mainstrea...  \n",
      "3           0.0  surgeons northwestern announced performed know...  \n",
      "4           0.0  monitoring evaluation logic model. photo credi...  \n",
      "...         ...                                                ...  \n",
      "1177        1.0          recent picture hospitals dogs inside ward  \n",
      "1178        1.0       countries purchasing covid-19 test kits 2018  \n",
      "1179        1.0  “we’ve tested country combined.” nope. april 2...  \n",
      "1180        1.0  holy qur'an banned china ban lifted chinese mu...  \n",
      "1181        1.0     delhi public school selling face masks rs. 400  \n",
      "\n",
      "[1182 rows x 5 columns]\n"
     ]
    }
   ],
   "source": [
    "errors = pd.DataFrame({'location': [], 'text' :[], 'value': [], 'predicted': []})\n",
    "for i in range(len(Y_pred)):\n",
    "    if Y_test.values[i] - Y_pred[i] != 0:\n",
    "        errors = errors.append({\n",
    "            'location': Y_test.index[i],\n",
    "            'text': df['tweet'][Y_test.index[i]],\n",
    "            'preprocess': df['preprocess'][Y_test.index[i]],\n",
    "            'predicted': Y_pred[i],\n",
    "            'value': Y_test.values[i]\n",
    "        }, ignore_index= True)\n",
    " \n",
    "print(errors)"
   ]
  },
  {
   "cell_type": "code",
   "execution_count": 24,
   "metadata": {},
   "outputs": [
    {
     "name": "stdout",
     "output_type": "stream",
     "text": [
      "Sample error : \n",
      " This is a recent picture where hospitals show dogs inside the ward \n",
      "\n",
      "Preprocessed error : \n",
      " recent picture hospitals dogs inside ward \n",
      "\n",
      "Line :  12051.0\n",
      "Predicted value :  1.0 \n",
      "Real value :  0.0 \n",
      "\n",
      "_______________________________________________\n",
      "\n",
      "Sample error : \n",
      " Countries were purchasing Covid-19 test kits in 2018 \n",
      "\n",
      "Preprocessed error : \n",
      " countries purchasing covid-19 test kits 2018 \n",
      "\n",
      "Line :  10707.0\n",
      "Predicted value :  1.0 \n",
      "Real value :  0.0 \n",
      "\n",
      "_______________________________________________\n",
      "\n",
      "Sample error : \n",
      " @realDonaldTrump “We’ve tested more than every country combined.” Nope. Through April 28, the United States had conducted 5.9 million tests, according to Worldometer. The next five countries — Russia, Germany, Italy, Spain and United Arab Emirates — had conducted 10 million tests as of that date. \n",
      "\n",
      "Preprocessed error : \n",
      " “we’ve tested country combined.” nope. april 28, united states conducted 5.9 million tests, according worldometer. countries — russia, germany, italy, spain united arab emirates — conducted 10 million tests date. \n",
      "\n",
      "Line :  21602.0\n",
      "Predicted value :  1.0 \n",
      "Real value :  0.0 \n",
      "\n",
      "_______________________________________________\n",
      "\n",
      "Sample error : \n",
      " Holy Qur'an was banned in China now ban\r\n",
      "Has been lifted Chinese Muslims are allowed\r\n",
      "to read Holy Quran \n",
      "\n",
      "Preprocessed error : \n",
      " holy qur'an banned china ban lifted chinese muslims allowed read holy quran \n",
      "\n",
      "Line :  13340.0\n",
      "Predicted value :  1.0 \n",
      "Real value :  0.0 \n",
      "\n",
      "_______________________________________________\n",
      "\n",
      "Sample error : \n",
      " Delhi Public School Selling Face Masks For Rs. 400 Each \n",
      "\n",
      "Preprocessed error : \n",
      " delhi public school selling face masks rs. 400 \n",
      "\n",
      "Line :  14358.0\n",
      "Predicted value :  1.0 \n",
      "Real value :  0.0 \n",
      "\n",
      "_______________________________________________\n",
      "\n"
     ]
    }
   ],
   "source": [
    "for error in errors.tail().iterrows():\n",
    "    print('Sample error : \\n', error[1]['text'], '\\n')\n",
    "    print('Preprocessed error : \\n', error[1]['preprocess'], '\\n')\n",
    "    print('Line : ', error[1]['location'])\n",
    "    print('Predicted value : ', error[1]['predicted'] , '\\nReal value : ', error[1]['value'], '\\n')\n",
    "    print('_______________________________________________\\n')"
   ]
  },
  {
   "cell_type": "code",
   "execution_count": 25,
   "metadata": {},
   "outputs": [
    {
     "name": "stdout",
     "output_type": "stream",
     "text": [
      "                         0\n",
      "(new, coronavirus)      26\n",
      "(tested, positive)      16\n",
      "(novel, coronavirus)    16\n",
      "(COVID19, vaccine)      15\n",
      "(Michigan, Governor)    12\n",
      "(clinical, trial)       12\n",
      "(COVID19, pandemic)     11\n",
      "(COVID19, cases)        10\n",
      "(Of, Fruit)              9\n",
      "(A, video)               9\n",
      "(Governor, Bans)         9\n",
      "(social, media)          9\n",
      "(Gardening, Sale)        9\n",
      "(Sale, Of)               9\n",
      "(Supplies, Prohibited)   9\n",
      "(Bans, Gardening)        9\n",
      "(Fruit, Vegetable)       9\n",
      "(Gardening, Supplies)    9\n",
      "(due, COVID19)           9\n",
      "(Seeds, Gardening)       9\n",
      "(vaccine, COVID19)       9\n",
      "(Vegetable, Seeds)       9\n",
      "(United, States)         9\n",
      "(positive, COVID19)      9\n",
      "(World, Health)          8\n",
      "(New, York)              8\n",
      "(New, coronavirus)       8\n",
      "(coronavirus, COVID19)   8\n",
      "(Vitamin, D)             8\n",
      "(NIH, clinical)          8\n"
     ]
    }
   ],
   "source": [
    "words_error = []\n",
    "for error in errors['text']:\n",
    "    error_text = re.sub(r'[^\\w\\s]', '', error)\n",
    "    words_error += word_tokenize(error_text)\n",
    "\n",
    "my_stopwords = set(stopwords.words('english')) \n",
    "\n",
    "n = 2\n",
    "words_error = [word for word in words_error if not word in my_stopwords]\n",
    "ngram_all=(pd.Series(nltk.ngrams(words_error, n)).value_counts())[:30]\n",
    "ngram_all=pd.DataFrame(ngram_all)\n",
    "print(ngram_all)"
   ]
  }
 ],
 "metadata": {
  "kernelspec": {
   "display_name": "Python 3",
   "language": "python",
   "name": "python3"
  },
  "language_info": {
   "codemirror_mode": {
    "name": "ipython",
    "version": 3
   },
   "file_extension": ".py",
   "mimetype": "text/x-python",
   "name": "python",
   "nbconvert_exporter": "python",
   "pygments_lexer": "ipython3",
   "version": "3.7.4"
  }
 },
 "nbformat": 4,
 "nbformat_minor": 2
}
