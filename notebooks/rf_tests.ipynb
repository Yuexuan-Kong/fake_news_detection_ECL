{
 "cells": [
  {
   "cell_type": "code",
   "execution_count": 25,
   "metadata": {},
   "outputs": [],
   "source": [
    "import warnings\n",
    "warnings.filterwarnings('ignore')\n",
    "import pandas as pd\n",
    "import re\n",
    "import nltk\n",
    "from nltk.corpus import stopwords\n",
    "from nltk.tokenize import word_tokenize\n",
    "import matplotlib.pyplot as plt\n",
    "\n",
    "import sys\n",
    "import os\n",
    "\n",
    "module_path = os.path.abspath(os.path.join('..'))\n",
    "if module_path not in sys.path:\n",
    "    sys.path.append(module_path)\n",
    "    \n",
    "from src.preprocessing import preprocess"
   ]
  },
  {
   "cell_type": "code",
   "execution_count": 26,
   "metadata": {},
   "outputs": [
    {
     "name": "stdout",
     "output_type": "stream",
     "text": [
      "       Unnamed: 0                                              tweet  label\n",
      "31996       31996  https://t.co/inx3HTRcfR Smell Diminishes by Da...      1\n",
      "31997       31997  COVID-19 outbreak on the Diamond Princess crui...      1\n",
      "31998       31998  Coronavirus China Italy | Coronavirus Outbreak...      1\n",
      "31999       31999  Coronavirus Daily Digest: April 13, 2020\\nhttp...      1\n",
      "32000       32000  Detention centers are notorious for having poo...      1\n"
     ]
    }
   ],
   "source": [
    "data_path = \"../data/\"\n",
    "database = \"final_merged_dataset.csv\"\n",
    "df = pd.read_csv(data_path + database)\n",
    "df['Unnamed: 0'] = [i for i in range(len(df))] #c'est moche mais ca marche c'est la vie \n",
    "print(df.tail())\n",
    "\n",
    "test = preprocess(df)"
   ]
  },
  {
   "cell_type": "code",
   "execution_count": 27,
   "metadata": {},
   "outputs": [],
   "source": [
    "from sklearn.feature_extraction.text import CountVectorizer\n",
    "corpus = df['tweet']\n",
    "vectorizer = CountVectorizer(max_features = 100)\n",
    "vectorizer.fit(corpus)\n",
    "X = vectorizer.transform(corpus).toarray()\n",
    "Y = df['label']"
   ]
  },
  {
   "cell_type": "markdown",
   "metadata": {},
   "source": [
    "When we used TfIdf, performance dropped, so we just dropped it as well."
   ]
  },
  {
   "cell_type": "code",
   "execution_count": 47,
   "metadata": {},
   "outputs": [
    {
     "name": "stdout",
     "output_type": "stream",
     "text": [
      "              precision    recall  f1-score   support\n",
      "\n",
      "           0       0.85      0.89      0.87      3446\n",
      "           1       0.91      0.88      0.90      4555\n",
      "\n",
      "    accuracy                           0.89      8001\n",
      "   macro avg       0.88      0.89      0.88      8001\n",
      "weighted avg       0.89      0.89      0.89      8001\n",
      "\n"
     ]
    }
   ],
   "source": [
    "from sklearn.model_selection import train_test_split\n",
    "from sklearn.ensemble import RandomForestClassifier \n",
    "\n",
    "X_train, X_test, Y_train, Y_test = train_test_split(X, Y)\n",
    "\n",
    "clf = RandomForestClassifier(n_estimators=50)\n",
    "clf.fit(X_train, Y_train)\n",
    "Y_pred = clf.predict(X_test)\n",
    "\n",
    "from sklearn.metrics import classification_report\n",
    "\n",
    "print(classification_report(Y_pred, Y_test))"
   ]
  },
  {
   "cell_type": "code",
   "execution_count": 29,
   "metadata": {},
   "outputs": [
    {
     "data": {
      "text/plain": [
       "(array([10860.,     0.,     0.,     0.,     0.,     0.,     0.,     0.,\n",
       "            0., 13140.]),\n",
       " array([0. , 0.1, 0.2, 0.3, 0.4, 0.5, 0.6, 0.7, 0.8, 0.9, 1. ]),\n",
       " <BarContainer object of 10 artists>)"
      ]
     },
     "execution_count": 29,
     "metadata": {},
     "output_type": "execute_result"
    },
    {
     "data": {
      "image/png": "[encoded data removed]",
      "text/plain": [
       "<Figure size 432x288 with 1 Axes>"
      ]
     },
     "metadata": {
      "needs_background": "light"
     },
     "output_type": "display_data"
    }
   ],
   "source": [
    "plt.hist(Y_train)"
   ]
  },
  {
   "cell_type": "code",
   "execution_count": 30,
   "metadata": {},
   "outputs": [
    {
     "name": "stdout",
     "output_type": "stream",
     "text": [
      "[[3059  566]\n",
      " [ 347 4029]]\n"
     ]
    }
   ],
   "source": [
    "from sklearn.metrics import confusion_matrix\n",
    "print(confusion_matrix(Y_test, Y_pred))"
   ]
  },
  {
   "cell_type": "code",
   "execution_count": 53,
   "metadata": {},
   "outputs": [
    {
     "name": "stdout",
     "output_type": "stream",
     "text": [
      "     location                                               text  value  \\\n",
      "0     12553.0  Man Finds It Difficult To Eat When Wearing A F...    0.0   \n",
      "1     29762.0  The information minister was telling the media...    1.0   \n",
      "2      5553.0  Pope Francis: COVID-19 crisis a chance to ‘com...    0.0   \n",
      "3     21153.0  Did a COVID-19 Vaccine Killed Seven Children i...    0.0   \n",
      "4     31637.0  @KSfan4life What is your question? We need to ...    1.0   \n",
      "..        ...                                                ...    ...   \n",
      "904    4018.0  Sir Ganga Ram Hospital has directed patients t...    0.0   \n",
      "905    8440.0  Scientists find a parasite in the White House ...    0.0   \n",
      "906    8953.0  RT @imperialcollege: @FraserNelson Thanks for ...    1.0   \n",
      "907   25478.0  Is it allergies + migraine, or Covid-19? 🤔 Onl...    1.0   \n",
      "908   25978.0  Labs in Pakistan continues to mint money by gi...    1.0   \n",
      "\n",
      "     predicted  \n",
      "0          1.0  \n",
      "1          0.0  \n",
      "2          1.0  \n",
      "3          1.0  \n",
      "4          0.0  \n",
      "..         ...  \n",
      "904        1.0  \n",
      "905        1.0  \n",
      "906        0.0  \n",
      "907        0.0  \n",
      "908        0.0  \n",
      "\n",
      "[909 rows x 4 columns]\n"
     ]
    }
   ],
   "source": [
    "errors = pd.DataFrame({'location': [], 'text' :[], 'value': [], 'predicted': []})\n",
    "for i in range(len(Y_pred)):\n",
    "    if Y_test.values[i] - Y_pred[i] != 0:\n",
    "        errors = errors.append({\n",
    "            'location': Y_test.index[i],\n",
    "            'text': df['tweet'][Y_test.index[i]],\n",
    "            'predicted': Y_pred[i],\n",
    "            'value': Y_test.values[i]\n",
    "        }, ignore_index= True)\n",
    " \n",
    "print(errors)"
   ]
  },
  {
   "cell_type": "code",
   "execution_count": 54,
   "metadata": {},
   "outputs": [
    {
     "name": "stdout",
     "output_type": "stream",
     "text": [
      "Sample error : \n",
      " Man Finds It Difficult To Eat When Wearing A Face Mask https://t.co/atfaqxvfjX #coronavirus #facemasks #covid19 \n",
      "\n",
      "Line :  12553.0\n",
      "Predicted value :  1.0 \n",
      "Real value :  0.0 \n",
      "\n",
      "_______________________________________________\n",
      "\n",
      "Sample error : \n",
      " The information minister was telling the media about how many billions of naira that have given to their citizens. We cannot continue with all these lies and yet the government said people should not go out because of coronavirus covid-19 \n",
      "\n",
      "Line :  29762.0\n",
      "Predicted value :  0.0 \n",
      "Real value :  1.0 \n",
      "\n",
      "_______________________________________________\n",
      "\n",
      "Sample error : \n",
      " Pope Francis: COVID-19 crisis a chance to ‘come out better’ https://t.co/lPcwwDVpxp via @AJEnglish \n",
      "\n",
      "Line :  5553.0\n",
      "Predicted value :  1.0 \n",
      "Real value :  0.0 \n",
      "\n",
      "_______________________________________________\n",
      "\n",
      "Sample error : \n",
      " Did a COVID-19 Vaccine Killed Seven Children in Senegal, Africa? - Weblyf https://t.co/xItVBoyM3N \n",
      "\n",
      "Line :  21153.0\n",
      "Predicted value :  1.0 \n",
      "Real value :  0.0 \n",
      "\n",
      "_______________________________________________\n",
      "\n",
      "Sample error : \n",
      " @KSfan4life What is your question? We need to flatten the curve first or our hospitals will be overwhelmed. Herd immunity is not a strategy here. People are getting coronavirus twice. We need to cut the unnecessary deaths and go back to phase one until we pass those markers \n",
      "\n",
      "Line :  31637.0\n",
      "Predicted value :  0.0 \n",
      "Real value :  1.0 \n",
      "\n",
      "_______________________________________________\n",
      "\n"
     ]
    }
   ],
   "source": [
    "for error in errors.head().iterrows():\n",
    "    print('Sample error : \\n', error[1]['text'], '\\n')\n",
    "    print('Line : ', error[1]['location'])\n",
    "    print('Predicted value : ', error[1]['predicted'] , '\\nReal value : ', error[1]['value'], '\\n')\n",
    "    print('_______________________________________________\\n')"
   ]
  },
  {
   "cell_type": "code",
   "execution_count": 55,
   "metadata": {},
   "outputs": [
    {
     "name": "stdout",
     "output_type": "stream",
     "text": [
      "                           0\n",
      "(COVID19, vaccine)        17\n",
      "(Vitamin, C)              17\n",
      "(Government, Officially)  15\n",
      "(Officially, Recommends)  15\n",
      "(Recommends, Vitamin)     15\n",
      "(C, COVID19)              15\n",
      "(Shanghai, Government)    14\n",
      "(Bill, Gates)             14\n",
      "(novel, coronavirus)      11\n",
      "(COVID, 19)               11\n",
      "(corona, virus)           10\n",
      "(coronavirus, outbreak)    8\n",
      "(New, York)                8\n",
      "(new, coronavirus)         8\n",
      "(COVID19, coronavirus)     8\n",
      "(new, cases)               7\n",
      "(coronavirus, infection)   7\n",
      "(Corona, virus)            7\n",
      "(I, think)                 7\n",
      "(Donald, Trump)            7\n",
      "(wearing, face)            6\n",
      "(face, masks)              6\n",
      "(Infectious, Diseases)     6\n",
      "(The, CDC)                 6\n",
      "(Is, COVID19)              6\n",
      "(United, States)           6\n",
      "(recommend, wearing)       6\n",
      "(coronavirus, vaccine)     6\n",
      "(We, need)                 6\n",
      "(due, COVID19)             6\n"
     ]
    }
   ],
   "source": [
    "words_error = []\n",
    "for error in errors['text']:\n",
    "    error_text = re.sub(r'[^\\w\\s]', '', error)\n",
    "    words_error += word_tokenize(error_text)\n",
    "\n",
    "my_stopwords = set(stopwords.words('english')) \n",
    "\n",
    "n = 2\n",
    "words_error = [word for word in words_error if not word in my_stopwords]\n",
    "ngram_all=(pd.Series(nltk.ngrams(words_error, n)).value_counts())[:30]\n",
    "ngram_all=pd.DataFrame(ngram_all)\n",
    "print(ngram_all)"
   ]
  }
 ],
 "metadata": {
  "kernelspec": {
   "display_name": "Python 3",
   "language": "python",
   "name": "python3"
  },
  "language_info": {
   "codemirror_mode": {
    "name": "ipython",
    "version": 3
   },
   "file_extension": ".py",
   "mimetype": "text/x-python",
   "name": "python",
   "nbconvert_exporter": "python",
   "pygments_lexer": "ipython3",
   "version": "3.7.4"
  }
 },
 "nbformat": 4,
 "nbformat_minor": 2
}
