{
 "cells": [
  {
   "cell_type": "code",
   "execution_count": 91,
   "metadata": {},
   "outputs": [],
   "source": [
    "import warnings\n",
    "warnings.filterwarnings('ignore')\n",
    "import pandas as pd\n",
    "import re\n",
    "import nltk\n",
    "from nltk.corpus import stopwords\n",
    "from nltk.tokenize import word_tokenize\n",
    "from nltk.stem import PorterStemmer\n",
    "import matplotlib.pyplot as plt\n",
    "\n",
    "import sys\n",
    "import os\n",
    "\n",
    "module_path = os.path.abspath(os.path.join('..'))\n",
    "if module_path not in sys.path:\n",
    "    sys.path.append(module_path)\n",
    "    \n",
    "from src.preprocessing import *"
   ]
  },
  {
   "cell_type": "code",
   "execution_count": 124,
   "metadata": {},
   "outputs": [],
   "source": [
    "def preprocess(df):\n",
    "    df['preprocess'] = df.apply(lambda row: remove_retweets(row['tweet']), axis=1)\n",
    "    df['preprocess'] = df.apply(lambda row: remove_mentions(row['preprocess']), axis=1)\n",
    "    #df['preprocess'] = df.apply(lambda row: remove_urls(row['preprocess']), axis=1)\n",
    "    df['preprocess'] = df.apply(lambda row: remove_hashtags(row['preprocess']), axis=1)\n",
    "    df['preprocess'] = df.apply(lambda row: remove_additional_space(row['preprocess']), axis=1)\n",
    "    df['preprocess'] = df.apply(lambda row: replace_slash_chars_by_space(row['preprocess']), axis=1)\n",
    "    df['preprocess'] = df.apply(lambda row: remove_underscore(row['preprocess']), axis=1)\n",
    "    df['preprocess'] = df.apply(lambda row: remove_emojis(row['preprocess']), axis=1)\n",
    "    with open('../data/english_stopwords.txt', 'r') as f:\n",
    "        stopwords = f.read().split('\\n')\n",
    "    df['preprocess'] = df.apply(lambda row: row['preprocess'].lower(), axis=1)\n",
    "    to_remove_stopwords = [\"not\", \"no\", \"wouldn't\", \"shouldn't\", \"couldn't\", \"won't\", \"can't\", \"doesn't\", \"isn't\", \"wasn't\", \"don't\"]\n",
    "    final_stopwords = [s for s in stopwords if s not in to_remove_stopwords]\n",
    "    df['preprocess'] = df.apply(lambda row: remove_stopwords(row['preprocess'], final_stopwords), axis=1)\n",
    "    \n",
    "    return df"
   ]
  },
  {
   "cell_type": "code",
   "execution_count": 125,
   "metadata": {},
   "outputs": [
    {
     "name": "stdout",
     "output_type": "stream",
     "text": [
      "       index                                              tweet  label  \\\n",
      "31996  31996  https://t.co/inx3HTRcfR Smell Diminishes by Da...      1   \n",
      "31997  31997  COVID-19 outbreak on the Diamond Princess crui...      1   \n",
      "31998  31998  Coronavirus China Italy | Coronavirus Outbreak...      1   \n",
      "31999  31999  Coronavirus Daily Digest: April 13, 2020\\nhttp...      1   \n",
      "32000  32000  Detention centers are notorious for having poo...      1   \n",
      "\n",
      "                                              preprocess  \n",
      "31996  https://t.co/inx3htrcfr smell diminishes day 3...  \n",
      "31997  covid-19 outbreak diamond princess cruise ship...  \n",
      "31998  coronavirus china italy | coronavirus outbreak...  \n",
      "31999  coronavirus daily digest: april 13, 2020 https...  \n",
      "32000  detention centers notorious poor conditions &a...  \n"
     ]
    }
   ],
   "source": [
    "data_path = \"../data/\"\n",
    "database = \"final_merged_dataset.csv\"\n",
    "df = pd.read_csv(data_path + database)\n",
    "df['Unnamed: 0'] = [i for i in range(len(df))] #c'est moche mais ca marche c'est la vie \n",
    "df.columns = ['index', 'tweet', 'label']\n",
    "\n",
    "df = preprocess(df)\n",
    "print(df.tail())"
   ]
  },
  {
   "cell_type": "code",
   "execution_count": 131,
   "metadata": {},
   "outputs": [],
   "source": [
    "from sklearn.feature_extraction.text import CountVectorizer\n",
    "corpus = df['preprocess'] # use 'preprocess' for preprocessed tweets, 'tweet' for unpreprocessed\n",
    "\n",
    "stemmer = PorterStemmer()\n",
    "analyzer = CountVectorizer().build_analyzer()\n",
    "\n",
    "def stemmed_words(doc):\n",
    "    return (stemmer.stem(w) for w in analyzer(doc))\n",
    "\n",
    "vectorizer = CountVectorizer(max_features = 20, analyzer = stemmed_words)\n",
    "\n",
    "vectorizer.fit(corpus)\n",
    "X = vectorizer.transform(corpus).toarray()\n",
    "Y = df['label']"
   ]
  },
  {
   "cell_type": "code",
   "execution_count": 132,
   "metadata": {},
   "outputs": [],
   "source": [
    "from sklearn.feature_extraction.text import TfidfTransformer\n",
    "\n",
    "transformer = TfidfTransformer()\n",
    "transformer.fit(X)\n",
    "X = transformer.transform(X).toarray()"
   ]
  },
  {
   "cell_type": "code",
   "execution_count": 133,
   "metadata": {},
   "outputs": [
    {
     "name": "stdout",
     "output_type": "stream",
     "text": [
      "['19', 'amp', 'case', 'co', 'confirm', 'coronaviru', 'covid', 'covid19', 'death', 'health', 'http', 'new', 'not', 'peopl', 'report', 'state', 'test', 'vaccin', 'via', 'viru']\n"
     ]
    }
   ],
   "source": [
    "print(vectorizer.get_feature_names())"
   ]
  },
  {
   "cell_type": "code",
   "execution_count": 134,
   "metadata": {},
   "outputs": [
    {
     "name": "stdout",
     "output_type": "stream",
     "text": [
      "Mean : 0.74\n",
      "Std :  0.06\n"
     ]
    }
   ],
   "source": [
    "from sklearn.ensemble import RandomForestClassifier \n",
    "from sklearn.model_selection import KFold, cross_val_score\n",
    "\n",
    "clf = RandomForestClassifier(n_estimators=50)\n",
    "\n",
    "score = cross_val_score(clf, X , Y)\n",
    "print('Mean : %.2f' % score.mean())\n",
    "print('Std :  %.2f' % score.std())"
   ]
  },
  {
   "cell_type": "code",
   "execution_count": 135,
   "metadata": {},
   "outputs": [
    {
     "name": "stdout",
     "output_type": "stream",
     "text": [
      "Fold :  1\n",
      "              precision    recall  f1-score   support\n",
      "\n",
      "           0       0.73      0.81      0.77      2612\n",
      "           1       0.86      0.79      0.82      3789\n",
      "\n",
      "    accuracy                           0.80      6401\n",
      "   macro avg       0.79      0.80      0.80      6401\n",
      "weighted avg       0.80      0.80      0.80      6401\n",
      "\n",
      "Fold :  2\n",
      "              precision    recall  f1-score   support\n",
      "\n",
      "           0       0.75      0.82      0.78      2662\n",
      "           1       0.86      0.80      0.83      3738\n",
      "\n",
      "    accuracy                           0.81      6400\n",
      "   macro avg       0.80      0.81      0.81      6400\n",
      "weighted avg       0.81      0.81      0.81      6400\n",
      "\n",
      "Fold :  3\n",
      "              precision    recall  f1-score   support\n",
      "\n",
      "           0       0.74      0.81      0.77      2613\n",
      "           1       0.86      0.80      0.83      3787\n",
      "\n",
      "    accuracy                           0.80      6400\n",
      "   macro avg       0.80      0.81      0.80      6400\n",
      "weighted avg       0.81      0.80      0.81      6400\n",
      "\n",
      "Fold :  4\n",
      "              precision    recall  f1-score   support\n",
      "\n",
      "           0       0.72      0.81      0.76      2551\n",
      "           1       0.86      0.79      0.82      3849\n",
      "\n",
      "    accuracy                           0.80      6400\n",
      "   macro avg       0.79      0.80      0.79      6400\n",
      "weighted avg       0.80      0.80      0.80      6400\n",
      "\n",
      "Fold :  5\n",
      "              precision    recall  f1-score   support\n",
      "\n",
      "           0       0.76      0.82      0.79      2672\n",
      "           1       0.86      0.81      0.84      3728\n",
      "\n",
      "    accuracy                           0.81      6400\n",
      "   macro avg       0.81      0.82      0.81      6400\n",
      "weighted avg       0.82      0.81      0.82      6400\n",
      "\n"
     ]
    }
   ],
   "source": [
    "from sklearn.metrics import classification_report\n",
    "folds = 5\n",
    "kf = KFold(n_splits=folds, shuffle=True, random_state=0) \n",
    "\n",
    "count = 0\n",
    "for train_index, test_index in kf.split(X,Y):\n",
    "    count += 1\n",
    "    X_train, X_test = X[train_index, :], X[test_index, :]\n",
    "    Y_train, Y_test = Y[train_index], Y[test_index]\n",
    "               \n",
    "    clf.fit(X_train, Y_train)\n",
    "    Y_pred = clf.predict(X_test)\n",
    "\n",
    "    print('Fold : ', count)\n",
    "    print(classification_report(Y_pred, Y_test))"
   ]
  },
  {
   "cell_type": "markdown",
   "metadata": {},
   "source": [
    "Avec train_test_split classique :"
   ]
  },
  {
   "cell_type": "code",
   "execution_count": 98,
   "metadata": {},
   "outputs": [
    {
     "name": "stdout",
     "output_type": "stream",
     "text": [
      "              precision    recall  f1-score   support\n",
      "\n",
      "           0       0.86      0.89      0.87      3492\n",
      "           1       0.91      0.89      0.90      4509\n",
      "\n",
      "    accuracy                           0.89      8001\n",
      "   macro avg       0.88      0.89      0.89      8001\n",
      "weighted avg       0.89      0.89      0.89      8001\n",
      "\n"
     ]
    }
   ],
   "source": [
    "from sklearn.model_selection import train_test_split\n",
    "\n",
    "X_train, X_test, Y_train, Y_test = train_test_split(X, Y, random_state = 0)\n",
    "clf.fit(X_train, Y_train)\n",
    "Y_pred = clf.predict(X_test)\n",
    "\n",
    "print(classification_report(Y_pred, Y_test))"
   ]
  },
  {
   "cell_type": "code",
   "execution_count": 99,
   "metadata": {},
   "outputs": [
    {
     "data": {
      "text/plain": [
       "(array([10869.,     0.,     0.,     0.,     0.,     0.,     0.,     0.,\n",
       "            0., 13131.]),\n",
       " array([0. , 0.1, 0.2, 0.3, 0.4, 0.5, 0.6, 0.7, 0.8, 0.9, 1. ]),\n",
       " <BarContainer object of 10 artists>)"
      ]
     },
     "execution_count": 99,
     "metadata": {},
     "output_type": "execute_result"
    },
    {
     "data": {
      "image/png": "[encoded data removed]",
      "text/plain": [
       "<Figure size 432x288 with 1 Axes>"
      ]
     },
     "metadata": {
      "needs_background": "light"
     },
     "output_type": "display_data"
    }
   ],
   "source": [
    "plt.hist(Y_train)"
   ]
  },
  {
   "cell_type": "code",
   "execution_count": 100,
   "metadata": {},
   "outputs": [
    {
     "name": "stdout",
     "output_type": "stream",
     "text": [
      "[[3102  514]\n",
      " [ 390 3995]]\n"
     ]
    }
   ],
   "source": [
    "from sklearn.metrics import confusion_matrix\n",
    "print(confusion_matrix(Y_test, Y_pred))"
   ]
  },
  {
   "cell_type": "code",
   "execution_count": 101,
   "metadata": {},
   "outputs": [
    {
     "name": "stdout",
     "output_type": "stream",
     "text": [
      "     location                                               text  value  \\\n",
      "0     30695.0  @ChuckCallesto Wearing a cloth face cover will...    1.0   \n",
      "1      9846.0  RT @PIB_India: Over 38.5 lakh patients have so...    1.0   \n",
      "2     13490.0  #coronavirus #Covid19 or #NYC NYC Millions wil...    0.0   \n",
      "3     29596.0  COVID-19 Breast Cancer Patient Triage Guidelin...    1.0   \n",
      "4      7401.0  People in Italy are throwing money on the road...    0.0   \n",
      "..        ...                                                ...    ...   \n",
      "899    1428.0  When will we get a vaccine? #COVIDー19 #coronav...    0.0   \n",
      "900    3965.0  ???Covid is never going away! This is the beac...    0.0   \n",
      "901    6682.0  ???How many of you are aware that the female g...    0.0   \n",
      "902   14358.0  Delhi Public School Selling Face Masks For Rs....    0.0   \n",
      "903    1191.0  Israeli Researchers Near Covid-19 Vaccine Deve...    0.0   \n",
      "\n",
      "     predicted                                         preprocess  \n",
      "0          0.0  wearing cloth face cover not prevent virus par...  \n",
      "1          0.0  38.5 lakh patients far recovered discharged. r...  \n",
      "2          1.0  coronavirus covid19 nyc nyc millions infected ...  \n",
      "3          0.0  covid-19 breast cancer patient triage guidelin...  \n",
      "4          1.0  people italy throwing money road saddened fact...  \n",
      "..         ...                                                ...  \n",
      "899        1.0  get vaccine? covid19 coronaviruske https://t.c...  \n",
      "900        1.0  ???covid never going away! beach today raleigh...  \n",
      "901        1.0  ???how many aware female governor michigan nie...  \n",
      "902        1.0     delhi public school selling face masks rs. 400  \n",
      "903        1.0  israeli researchers near covid-19 vaccine deve...  \n",
      "\n",
      "[904 rows x 5 columns]\n"
     ]
    }
   ],
   "source": [
    "errors = pd.DataFrame({'location': [], 'text' :[], 'value': [], 'predicted': []})\n",
    "for i in range(len(Y_pred)):\n",
    "    if Y_test.values[i] - Y_pred[i] != 0:\n",
    "        errors = errors.append({\n",
    "            'location': Y_test.index[i],\n",
    "            'text': df['tweet'][Y_test.index[i]],\n",
    "            'preprocess': df['preprocess'][Y_test.index[i]],\n",
    "            'predicted': Y_pred[i],\n",
    "            'value': Y_test.values[i]\n",
    "        }, ignore_index= True)\n",
    " \n",
    "print(errors)"
   ]
  },
  {
   "cell_type": "code",
   "execution_count": 102,
   "metadata": {},
   "outputs": [
    {
     "name": "stdout",
     "output_type": "stream",
     "text": [
      "Sample error : \n",
      " @ChuckCallesto Wearing a cloth face cover will not prevent virus particles from getting through. I think they should be optional. If you are sick stay home, unfortunately 60% or more are asymtomatic when infected with the coronavirus. \n",
      "\n",
      "Preprocessed error : \n",
      " wearing cloth face cover not prevent virus particles getting through. think optional. sick stay home, unfortunately 60% asymtomatic infected coronavirus. \n",
      "\n",
      "Line :  30695.0\n",
      "Predicted value :  0.0 \n",
      "Real value :  1.0 \n",
      "\n",
      "_______________________________________________\n",
      "\n",
      "Sample error : \n",
      " RT @PIB_India: Over 38.5 lakh patients have so far recovered and discharged. The rate of recovery on day to day basis is showing an increas… \n",
      "\n",
      "Preprocessed error : \n",
      " 38.5 lakh patients far recovered discharged. rate recovery day day basis showing increas… \n",
      "\n",
      "Line :  9846.0\n",
      "Predicted value :  0.0 \n",
      "Real value :  1.0 \n",
      "\n",
      "_______________________________________________\n",
      "\n",
      "Sample error : \n",
      " #coronavirus #Covid19 or #NYC NYC Millions will be infected by #coronavirus and up to 200,000 will die in the U.S., the county's top infectious-disease expert Anthony Fauci warned Sunday, Bloomberg reports. #CoronavirusOutbreak https://t.co/olLpIhVVA4 \n",
      "\n",
      "Preprocessed error : \n",
      " coronavirus covid19 nyc nyc millions infected coronavirus 200,000 die u.s., county's top infectious-disease expert anthony fauci warned sunday, bloomberg reports. coronavirusoutbreak https://t.co/ollpihvva4 \n",
      "\n",
      "Line :  13490.0\n",
      "Predicted value :  1.0 \n",
      "Real value :  0.0 \n",
      "\n",
      "_______________________________________________\n",
      "\n",
      "Sample error : \n",
      " COVID-19 Breast Cancer Patient Triage Guidelines (CPBCC): Guidelines on surgical triage of patients with breast cancer by the COVID 19 Pandemic Breast Cancer Consortium \n",
      "\n",
      "Preprocessed error : \n",
      " covid-19 breast cancer patient triage guidelines (cpbcc): guidelines surgical triage patients breast cancer covid 19 pandemic breast cancer consortium \n",
      "\n",
      "Line :  29596.0\n",
      "Predicted value :  0.0 \n",
      "Real value :  1.0 \n",
      "\n",
      "_______________________________________________\n",
      "\n",
      "Sample error : \n",
      " People in Italy are throwing money on the road because they are saddened by the fact that all the money in the world could not save their dear ones. \n",
      "\n",
      "Preprocessed error : \n",
      " people italy throwing money road saddened fact money world could not save dear ones. \n",
      "\n",
      "Line :  7401.0\n",
      "Predicted value :  1.0 \n",
      "Real value :  0.0 \n",
      "\n",
      "_______________________________________________\n",
      "\n"
     ]
    }
   ],
   "source": [
    "for error in errors.head().iterrows():\n",
    "    print('Sample error : \\n', error[1]['text'], '\\n')\n",
    "    print('Preprocessed error : \\n', error[1]['preprocess'], '\\n')\n",
    "    print('Line : ', error[1]['location'])\n",
    "    print('Predicted value : ', error[1]['predicted'] , '\\nReal value : ', error[1]['value'], '\\n')\n",
    "    print('_______________________________________________\\n')"
   ]
  },
  {
   "cell_type": "code",
   "execution_count": 103,
   "metadata": {},
   "outputs": [
    {
     "name": "stdout",
     "output_type": "stream",
     "text": [
      "                          0\n",
      "(tested, positive)       12\n",
      "(COVID19, vaccine)       10\n",
      "(social, media)          10\n",
      "(coronavirus, COVID19)   10\n",
      "(clinical, trials)        9\n",
      "(President, Trump)        9\n",
      "(coronavirus, hoax)       8\n",
      "(COVID19, cases)          8\n",
      "(confirmed, case)         8\n",
      "(United, States)          8\n",
      "(new, infections)         7\n",
      "(coronavirus, vaccine)    7\n",
      "(COVID, 19)               7\n",
      "(coronavirus, cases)      6\n",
      "(World, Health)           6\n",
      "(The, CDC)                6\n",
      "(every, country)          6\n",
      "(stay, home)              6\n",
      "(novel, coronavirus)      6\n",
      "(immune, system)          6\n",
      "(positive, COVID19)       6\n",
      "(The, Coronavirus)        6\n",
      "(via, YouTube)            6\n",
      "(COVID, Tracer)           6\n",
      "(Vitamin, D)              6\n",
      "(NZ, COVID)               6\n",
      "(coronavirus, pandemic)   6\n",
      "(posters, created)        5\n",
      "(like, flu)               5\n",
      "(seasonal, flu)           5\n"
     ]
    }
   ],
   "source": [
    "words_error = []\n",
    "for error in errors['text']:\n",
    "    error_text = re.sub(r'[^\\w\\s]', '', error)\n",
    "    words_error += word_tokenize(error_text)\n",
    "\n",
    "my_stopwords = set(stopwords.words('english')) \n",
    "\n",
    "n = 2\n",
    "words_error = [word for word in words_error if not word in my_stopwords]\n",
    "ngram_all=(pd.Series(nltk.ngrams(words_error, n)).value_counts())[:30]\n",
    "ngram_all=pd.DataFrame(ngram_all)\n",
    "print(ngram_all)"
   ]
  }
 ],
 "metadata": {
  "kernelspec": {
   "display_name": "Python 3",
   "language": "python",
   "name": "python3"
  },
  "language_info": {
   "codemirror_mode": {
    "name": "ipython",
    "version": 3
   },
   "file_extension": ".py",
   "mimetype": "text/x-python",
   "name": "python",
   "nbconvert_exporter": "python",
   "pygments_lexer": "ipython3",
   "version": "3.7.4"
  }
 },
 "nbformat": 4,
 "nbformat_minor": 2
}
