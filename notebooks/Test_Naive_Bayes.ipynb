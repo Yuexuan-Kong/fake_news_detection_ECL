{
 "cells": [
  {
   "cell_type": "code",
   "execution_count": 24,
   "metadata": {},
   "outputs": [],
   "source": [
    "import sys \n",
    "import os\n",
    "\n",
    "module_path = os.path.abspath(os.path.join('..'))\n",
    "if module_path not in sys.path:\n",
    "    sys.path.append(module_path)\n",
    "    \n",
    "from src.preprocessing import remove_special_characters, remove_stopwords, preprocess, load_train_test_indices\n",
    "import numpy as np\n",
    "import pickle\n",
    "import pandas as pd    \n",
    "import matplotlib.pyplot as plt\n",
    "from matplotlib import style\n",
    "style.use(\"ggplot\")\n",
    "from sklearn.model_selection import train_test_split\n",
    "import math\n",
    "from sklearn.svm import SVC\n",
    "from sklearn.feature_extraction.text import CountVectorizer,TfidfVectorizer\n",
    "from sklearn.metrics import classification_report, confusion_matrix, accuracy_score\n",
    "from nltk.stem.porter import PorterStemmer"
   ]
  },
  {
   "cell_type": "code",
   "execution_count": 2,
   "metadata": {},
   "outputs": [],
   "source": [
    "data_path = '../data/'\n",
    "df = pd.read_csv(data_path + 'final_merged_dataset.csv')"
   ]
  },
  {
   "cell_type": "code",
   "execution_count": 3,
   "metadata": {},
   "outputs": [
    {
     "name": "stdout",
     "output_type": "stream",
     "text": [
      "Example of processed data :  29533    coronavirus drug dexamethasone: covid-19 dexam...\n",
      "22341    remember one? “if look (hydroxychloroquine) su...\n",
      "5390     real sense, (oklahoma has) flattened curve. .....\n",
      "22358    free horses! 52 thoroughbred horses need homes...\n",
      "5612      58% coronavirus deaths scotland care facilities.\n",
      "Name: preprocess, dtype: object\n"
     ]
    }
   ],
   "source": [
    "train, test, df = preprocess(df)\n",
    "train_indices, test_indices = load_train_test_indices()\n",
    "print(\"Example of processed data : \", train[\"preprocess\"].head(5))"
   ]
  },
  {
   "cell_type": "code",
   "execution_count": 27,
   "metadata": {},
   "outputs": [],
   "source": [
    "corpus = df[\"preprocess\"].tolist()\n",
    "vect =CountVectorizer(min_df=0.,max_df=1.0)\n",
    "X = vect.fit_transform(corpus)\n",
    "X_train = X[train_indices, :]\n",
    "X_test = X[test_indices, :]\n",
    "y_train = train[\"label\"]\n",
    "y_test = test[\"label\"]"
   ]
  },
  {
   "cell_type": "code",
   "execution_count": 6,
   "metadata": {},
   "outputs": [
    {
     "data": {
      "text/plain": [
       "(array([13004.,     0.,     0.,     0.,     0.,     0.,     0.,     0.,\n",
       "            0., 15796.]),\n",
       " array([0. , 0.1, 0.2, 0.3, 0.4, 0.5, 0.6, 0.7, 0.8, 0.9, 1. ]),\n",
       " <a list of 10 Patch objects>)"
      ]
     },
     "execution_count": 6,
     "metadata": {},
     "output_type": "execute_result"
    },
    {
     "data": {
      "image/png": "[encoded data removed]",
      "text/plain": [
       "<Figure size 432x288 with 1 Axes>"
      ]
     },
     "metadata": {},
     "output_type": "display_data"
    }
   ],
   "source": [
    "plt.hist(y_train)"
   ]
  },
  {
   "cell_type": "code",
   "execution_count": 7,
   "metadata": {},
   "outputs": [
    {
     "data": {
      "text/plain": [
       "(array([1481.,    0.,    0.,    0.,    0.,    0.,    0.,    0.,    0.,\n",
       "        1720.]),\n",
       " array([0. , 0.1, 0.2, 0.3, 0.4, 0.5, 0.6, 0.7, 0.8, 0.9, 1. ]),\n",
       " <a list of 10 Patch objects>)"
      ]
     },
     "execution_count": 7,
     "metadata": {},
     "output_type": "execute_result"
    },
    {
     "data": {
      "image/png": "[encoded data removed]",
      "text/plain": [
       "<Figure size 432x288 with 1 Axes>"
      ]
     },
     "metadata": {},
     "output_type": "display_data"
    }
   ],
   "source": [
    "plt.hist(y_test)"
   ]
  },
  {
   "cell_type": "code",
   "execution_count": 9,
   "metadata": {},
   "outputs": [],
   "source": [
    "from sklearn.naive_bayes import GaussianNB\n",
    "from sklearn.linear_model import LogisticRegression\n",
    "from sklearn.model_selection import train_test_split\n",
    "from sklearn.metrics import confusion_matrix,classification_report"
   ]
  },
  {
   "cell_type": "code",
   "execution_count": 10,
   "metadata": {},
   "outputs": [],
   "source": [
    "nb = GaussianNB()\n",
    "lr = LogisticRegression()"
   ]
  },
  {
   "cell_type": "code",
   "execution_count": 17,
   "metadata": {},
   "outputs": [],
   "source": [
    "X_train = X_train.toarray()\n",
    "X_test = X_test.toarray()"
   ]
  },
  {
   "cell_type": "code",
   "execution_count": 18,
   "metadata": {},
   "outputs": [],
   "source": [
    "nb.fit(X_train,y_train)\n",
    "y_pred = nb.predict(X_test)"
   ]
  },
  {
   "cell_type": "code",
   "execution_count": 23,
   "metadata": {},
   "outputs": [
    {
     "name": "stdout",
     "output_type": "stream",
     "text": [
      "ORIGINAL TWEET IS : \n",
      " I do really appreciate our Indian Government for this.. Giving a ray of hope to the Indians who are stuck in there.. But, they have to properly check their health status to confirm #Coronavirus negative..! https://t.co/Dijwh49VcJ \n",
      " PROCESSED TWEET IS : \n",
      " appreciate indian government this.. giving ray hope indians stuck there.. but, properly check health status confirm coronavirus negative..! \n",
      " has been classified as  0 and should be  1 \n",
      "\n",
      "ORIGINAL TWEET IS : \n",
      " CDC: First in line should be healthcare and essential workers and those at high risk. https://t.co/ZBfEW70P1E #covid19 \n",
      " PROCESSED TWEET IS : \n",
      " cdc: line healthcare essential workers high risk. covid19 \n",
      " has been classified as  0 and should be  1 \n",
      "\n",
      "ORIGINAL TWEET IS : \n",
      " New coronavirus stable for hours on surfaces | National Institutes of Health (NIH) #QUIROCOVID  https://t.co/R0TlDpLkkK \n",
      " PROCESSED TWEET IS : \n",
      " new coronavirus stable hours surfaces | national institutes health (nih) quirocovid \n",
      " has been classified as  0 and should be  1 \n",
      "\n",
      "ORIGINAL TWEET IS : \n",
      " Cardiac Injury Common in COVID-19, Predicts Mortality https://t.co/vcQccmJt9k \n",
      " PROCESSED TWEET IS : \n",
      " cardiac injury common covid-19, predicts mortality \n",
      " has been classified as  0 and should be  1 \n",
      "\n",
      "ORIGINAL TWEET IS : \n",
      " The COVID-19 pandemic is causing a reduction in child vaccinations... here's the concerns associated with that... https://t.co/Z0YxrF1wsj #Covid_19 #COVID #coronavirus #childvaccinations #vaccinations https://t.co/EqqxnDXwO0 \n",
      " PROCESSED TWEET IS : \n",
      " covid-19 pandemic causing reduction child vaccinations... here's concerns associated that... covid19 covid coronavirus childvaccinations vaccinations \n",
      " has been classified as  0 and should be  1 \n",
      "\n",
      "ORIGINAL TWEET IS : \n",
      " @ChristineDompor @stgatchalian And by the numbers, COVID-19 has generally low fatality rate despite increasing cases. You look at the fatality rate - that's the real indication if a virus is deadly or not that \n",
      " PROCESSED TWEET IS : \n",
      " numbers, covid-19 generally low fatality rate despite increasing cases. look fatality rate - that's real indication virus deadly not \n",
      " has been classified as  0 and should be  1 \n",
      "\n",
      "ORIGINAL TWEET IS : \n",
      " Be ready if you’re caring for someone who is sick:\n",
      "*BeSupportive.\n",
      "*Be Kind.\n",
      "*Be Clean.\n",
      "*Be Careful.\n",
      "\n",
      "https://t.co/8iVGWoltUR https://t.co/nuoc4oLZDU \n",
      " PROCESSED TWEET IS : \n",
      " ready you’re caring sick: *besupportive. *be kind. *be clean. *be careful. \n",
      " has been classified as  0 and should be  1 \n",
      "\n",
      "ORIGINAL TWEET IS : \n",
      " WHO says: Drinking alcohol does not protect you against COVID-19 and can be dangerous. On theother hand if you don't have access to soap alcohol sanitiser is a good alternative https://t.co/nS1MciWLYw \n",
      " PROCESSED TWEET IS : \n",
      " says: drinking alcohol not protect covid-19 dangerous. theother hand don't access soap alcohol sanitiser good alternative \n",
      " has been classified as  0 and should be  1 \n",
      "\n",
      "ORIGINAL TWEET IS : \n",
      " A banner with a swastika, ???Trump??� and ???Pence??� is from a Michigan coronavirus protest. \n",
      " PROCESSED TWEET IS : \n",
      " banner swastika, ???trump?? ???pence?? michigan coronavirus protest. \n",
      " has been classified as  1 and should be  0 \n",
      "\n",
      "ORIGINAL TWEET IS : \n",
      " We will, of course, keep you up-to-date with the latest science-checked, factual information as the crisis continues. Do not spread misinformation, guesses, and conspiracy theories. Be the person who hears a crazy rumor and lets it stop with them. 26/n \n",
      " PROCESSED TWEET IS : \n",
      " will, course, up-to-date latest science-checked, factual information crisis continues. not spread misinformation, guesses, conspiracy theories. person hears crazy rumor lets stop them. 26/n \n",
      " has been classified as  0 and should be  1 \n",
      "\n"
     ]
    }
   ],
   "source": [
    "n = 0\n",
    "for ind, (prediction, label) in enumerate(zip(y_pred, y_test)):\n",
    "  if prediction != label and n<10:\n",
    "    n = n+1\n",
    "    print(\"ORIGINAL TWEET IS : \\n\", test[\"tweet\"].iloc[ind], \"\\n\",\n",
    "          \"PROCESSED TWEET IS : \\n\", test[\"preprocess\"].iloc[ind], \"\\n\",\n",
    "                                'has been classified as ', prediction,\n",
    "                                'and should be ', label, \"\\n\")"
   ]
  },
  {
   "cell_type": "code",
   "execution_count": 20,
   "metadata": {},
   "outputs": [
    {
     "name": "stdout",
     "output_type": "stream",
     "text": [
      "              precision    recall  f1-score   support\n",
      "\n",
      "           0       0.64      0.90      0.75      1481\n",
      "           1       0.87      0.56      0.68      1720\n",
      "\n",
      "    accuracy                           0.72      3201\n",
      "   macro avg       0.76      0.73      0.72      3201\n",
      "weighted avg       0.76      0.72      0.71      3201\n",
      "\n"
     ]
    }
   ],
   "source": [
    "print(classification_report(y_test,y_pred))"
   ]
  },
  {
   "cell_type": "code",
   "execution_count": 22,
   "metadata": {},
   "outputs": [
    {
     "name": "stdout",
     "output_type": "stream",
     "text": [
      "[[1338  143]\n",
      " [ 754  966]]\n"
     ]
    }
   ],
   "source": [
    "print(confusion_matrix(y_test,y_pred))"
   ]
  },
  {
   "cell_type": "code",
   "execution_count": 30,
   "metadata": {},
   "outputs": [],
   "source": [
    "tfidf = TfidfVectorizer()\n",
    "X=tfidf.fit_transform(corpus)\n",
    "X_train = X[train_indices, :]\n",
    "X_test = X[test_indices, :]"
   ]
  },
  {
   "cell_type": "code",
   "execution_count": 31,
   "metadata": {},
   "outputs": [],
   "source": [
    "X_train = X_train.toarray()\n",
    "X_test = X_test.toarray()"
   ]
  },
  {
   "cell_type": "code",
   "execution_count": 32,
   "metadata": {},
   "outputs": [],
   "source": [
    "nb.fit(X_train,y_train)\n",
    "y_pred = nb.predict(X_test)"
   ]
  },
  {
   "cell_type": "code",
   "execution_count": 33,
   "metadata": {},
   "outputs": [
    {
     "name": "stdout",
     "output_type": "stream",
     "text": [
      "              precision    recall  f1-score   support\n",
      "\n",
      "           0       0.64      0.88      0.74      1481\n",
      "           1       0.85      0.57      0.68      1720\n",
      "\n",
      "    accuracy                           0.71      3201\n",
      "   macro avg       0.74      0.73      0.71      3201\n",
      "weighted avg       0.75      0.71      0.71      3201\n",
      "\n"
     ]
    }
   ],
   "source": [
    "print(classification_report(y_test,y_pred))"
   ]
  },
  {
   "cell_type": "code",
   "execution_count": 34,
   "metadata": {},
   "outputs": [
    {
     "name": "stdout",
     "output_type": "stream",
     "text": [
      "[[1303  178]\n",
      " [ 739  981]]\n"
     ]
    }
   ],
   "source": [
    "print(confusion_matrix(y_test,y_pred))"
   ]
  },
  {
   "cell_type": "code",
   "execution_count": 35,
   "metadata": {},
   "outputs": [
    {
     "name": "stdout",
     "output_type": "stream",
     "text": [
      "ORIGINAL TWEET IS : \n",
      " I do really appreciate our Indian Government for this.. Giving a ray of hope to the Indians who are stuck in there.. But, they have to properly check their health status to confirm #Coronavirus negative..! https://t.co/Dijwh49VcJ \n",
      " PROCESSED TWEET IS : \n",
      " appreciate indian government this.. giving ray hope indians stuck there.. but, properly check health status confirm coronavirus negative..! \n",
      " has been classified as  0 and should be  1 \n",
      "\n",
      "ORIGINAL TWEET IS : \n",
      " CDC: First in line should be healthcare and essential workers and those at high risk. https://t.co/ZBfEW70P1E #covid19 \n",
      " PROCESSED TWEET IS : \n",
      " cdc: line healthcare essential workers high risk. covid19 \n",
      " has been classified as  0 and should be  1 \n",
      "\n",
      "ORIGINAL TWEET IS : \n",
      " New coronavirus stable for hours on surfaces | National Institutes of Health (NIH) #QUIROCOVID  https://t.co/R0TlDpLkkK \n",
      " PROCESSED TWEET IS : \n",
      " new coronavirus stable hours surfaces | national institutes health (nih) quirocovid \n",
      " has been classified as  0 and should be  1 \n",
      "\n",
      "ORIGINAL TWEET IS : \n",
      " Cardiac Injury Common in COVID-19, Predicts Mortality https://t.co/vcQccmJt9k \n",
      " PROCESSED TWEET IS : \n",
      " cardiac injury common covid-19, predicts mortality \n",
      " has been classified as  0 and should be  1 \n",
      "\n",
      "ORIGINAL TWEET IS : \n",
      " The COVID-19 pandemic is causing a reduction in child vaccinations... here's the concerns associated with that... https://t.co/Z0YxrF1wsj #Covid_19 #COVID #coronavirus #childvaccinations #vaccinations https://t.co/EqqxnDXwO0 \n",
      " PROCESSED TWEET IS : \n",
      " covid-19 pandemic causing reduction child vaccinations... here's concerns associated that... covid19 covid coronavirus childvaccinations vaccinations \n",
      " has been classified as  0 and should be  1 \n",
      "\n",
      "ORIGINAL TWEET IS : \n",
      " @ChristineDompor @stgatchalian And by the numbers, COVID-19 has generally low fatality rate despite increasing cases. You look at the fatality rate - that's the real indication if a virus is deadly or not that \n",
      " PROCESSED TWEET IS : \n",
      " numbers, covid-19 generally low fatality rate despite increasing cases. look fatality rate - that's real indication virus deadly not \n",
      " has been classified as  0 and should be  1 \n",
      "\n",
      "ORIGINAL TWEET IS : \n",
      " Pole-dance and strip club controversy rocks US with Mr. Fauci cautioning https://t.co/VkC7RvyZNl #donaldtrump #covid19 #lapdance \n",
      " PROCESSED TWEET IS : \n",
      " pole-dance strip club controversy rocks mr. fauci cautioning donaldtrump covid19 lapdance \n",
      " has been classified as  1 and should be  0 \n",
      "\n",
      "ORIGINAL TWEET IS : \n",
      " @Eyaaaad الموضوع ليس له علاقة بالأكل  COVID-19: CHINESE HEALTH AUTHORITIES CONFIRM PATIENT ZERO ‘HAD SEX WITH BATS’ 🤣🤣🤣🤣الله يلعنه \n",
      " PROCESSED TWEET IS : \n",
      " الموضوع ليس له علاقة بالأكل covid-19: chinese health authorities confirm patient zero ‘had sex bats’ الله يلعنه \n",
      " has been classified as  1 and should be  0 \n",
      "\n",
      "ORIGINAL TWEET IS : \n",
      " RT @TruthHammer888: Before this poll, did you know the CDC is privately owned, with 57 vaccine patents &amp; $4.1B/yr in sales? \n",
      " PROCESSED TWEET IS : \n",
      " poll, know cdc privately owned, 57 vaccine patents &amp; $4.1b/yr sales? \n",
      " has been classified as  1 and should be  0 \n",
      "\n",
      "ORIGINAL TWEET IS : \n",
      " Be ready if you’re caring for someone who is sick:\n",
      "*BeSupportive.\n",
      "*Be Kind.\n",
      "*Be Clean.\n",
      "*Be Careful.\n",
      "\n",
      "https://t.co/8iVGWoltUR https://t.co/nuoc4oLZDU \n",
      " PROCESSED TWEET IS : \n",
      " ready you’re caring sick: *besupportive. *be kind. *be clean. *be careful. \n",
      " has been classified as  0 and should be  1 \n",
      "\n"
     ]
    }
   ],
   "source": [
    "n = 0\n",
    "for ind, (prediction, label) in enumerate(zip(y_pred, y_test)):\n",
    "  if prediction != label and n<10:\n",
    "    n = n+1\n",
    "    print(\"ORIGINAL TWEET IS : \\n\", test[\"tweet\"].iloc[ind], \"\\n\",\n",
    "          \"PROCESSED TWEET IS : \\n\", test[\"preprocess\"].iloc[ind], \"\\n\",\n",
    "                                'has been classified as ', prediction,\n",
    "                                'and should be ', label, \"\\n\")"
   ]
  },
  {
   "cell_type": "code",
   "execution_count": null,
   "metadata": {},
   "outputs": [],
   "source": []
  }
 ],
 "metadata": {
  "kernelspec": {
   "display_name": "Python 3",
   "language": "python",
   "name": "python3"
  },
  "language_info": {
   "codemirror_mode": {
    "name": "ipython",
    "version": 3
   },
   "file_extension": ".py",
   "mimetype": "text/x-python",
   "name": "python",
   "nbconvert_exporter": "python",
   "pygments_lexer": "ipython3",
   "version": "3.8.3"
  }
 },
 "nbformat": 4,
 "nbformat_minor": 4
}
