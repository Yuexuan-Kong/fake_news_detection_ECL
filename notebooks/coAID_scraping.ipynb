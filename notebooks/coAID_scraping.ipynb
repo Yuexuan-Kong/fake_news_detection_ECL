{
 "cells": [
  {
   "cell_type": "code",
   "execution_count": 1,
   "metadata": {},
   "outputs": [],
   "source": [
    "import pandas as pd\n",
    "import pathlib\n",
    "import sys\n",
    "import os\n",
    "import numpy as np\n",
    "\n",
    "path = str(pathlib.Path().resolve().parent)\n",
    "sys.path.append(path)\n",
    "sys.path.append(path+'/src/')\n",
    "\n",
    "from src.scraper import get_tweets"
   ]
  },
  {
   "cell_type": "code",
   "execution_count": 2,
   "metadata": {},
   "outputs": [],
   "source": [
    "%load_ext autoreload\n",
    "%autoreload 2"
   ]
  },
  {
   "cell_type": "code",
   "execution_count": 3,
   "metadata": {},
   "outputs": [],
   "source": [
    "list_dirs = os.listdir(path + '/data/Sources/CoAID')\n",
    "list_id_fake = []\n",
    "list_id_real = []\n",
    "for dir in list_dirs:\n",
    "    list_files = os.listdir(path + '/data/Sources/CoAID/' + dir)\n",
    "    for file in list_files:\n",
    "        df = pd.read_csv(path + '/data/Sources/CoAID/' + dir + f'/{file}')\n",
    "        ids = list(df['tweet_id'].values)\n",
    "        if 'Fake' in file:\n",
    "            list_id_fake += ids\n",
    "        else:\n",
    "            list_id_real += ids\n",
    "list_id_fake = list(np.unique(list_id_fake))\n",
    "list_id_real = np.unique(list_id_real)\n",
    "np.random.shuffle(list_id_real)\n",
    "list_id_real = list(list_id_real)[:len(list_id_fake)]"
   ]
  },
  {
   "cell_type": "code",
   "execution_count": 4,
   "metadata": {},
   "outputs": [
    {
     "name": "stderr",
     "output_type": "stream",
     "text": [
      "100%|██████████| 110/110 [01:08<00:00,  1.60it/s]\n"
     ]
    }
   ],
   "source": [
    "fake_tweets = get_tweets(list_id_fake)\n",
    "fake_tweets_df = pd.DataFrame(fake_tweets).rename(\n",
    "                columns={'text':'tweet'}\n",
    "                ).drop(\n",
    "                    columns=['id']\n",
    "                ).drop_duplicates(\n",
    "                    subset='tweet'\n",
    "                    )\n",
    "fake_tweets_df['label'] = 0"
   ]
  },
  {
   "cell_type": "code",
   "execution_count": 7,
   "metadata": {},
   "outputs": [],
   "source": [
    "fake_tweets_df = fake_tweets_df.drop(columns = ['withheld'])\n",
    "fake_tweets_df = fake_tweets_df.drop_duplicates(subset='tweet')\n",
    "fake_tweets_df.to_csv(path+'/data/Sources/Scraped/fake_tweets.csv')"
   ]
  },
  {
   "cell_type": "code",
   "execution_count": 18,
   "metadata": {},
   "outputs": [
    {
     "name": "stderr",
     "output_type": "stream",
     "text": [
      "100%|██████████| 110/110 [01:34<00:00,  1.16it/s]\n"
     ]
    }
   ],
   "source": [
    "real_tweets = get_tweets(list_id_real)\n",
    "real_tweets_df = pd.DataFrame(real_tweets).rename(\n",
    "                columns={'text':'tweet'}\n",
    "                ).drop(\n",
    "                    columns=['id']\n",
    "                ).drop_duplicates(\n",
    "                    subset='tweet'\n",
    "                    )\n",
    "real_tweets_df['label'] = 1"
   ]
  },
  {
   "cell_type": "code",
   "execution_count": 21,
   "metadata": {},
   "outputs": [],
   "source": [
    "real_tweets_df = real_tweets_df.drop_duplicates(subset='tweet')\n",
    "real_tweets_df.to_csv(path+'/data/Sources/Scraped/real_tweets.csv')"
   ]
  }
 ],
 "metadata": {
  "interpreter": {
   "hash": "8b03d4cd05d71d535371b426da57de743181e37d8974a9636efe6e78873daaed"
  },
  "kernelspec": {
   "display_name": "Python 3.9.6 64-bit",
   "language": "python",
   "name": "python3"
  },
  "language_info": {
   "codemirror_mode": {
    "name": "ipython",
    "version": 3
   },
   "file_extension": ".py",
   "mimetype": "text/x-python",
   "name": "python",
   "nbconvert_exporter": "python",
   "pygments_lexer": "ipython3",
   "version": "3.9.6"
  },
  "orig_nbformat": 4
 },
 "nbformat": 4,
 "nbformat_minor": 2
}
