{
 "cells": [
  {
   "cell_type": "code",
   "execution_count": 15,
   "metadata": {
    "pycharm": {
     "name": "#%%\n"
    }
   },
   "outputs": [],
   "source": [
    "from src.preprocessing import remove_special_characters, remove_stopwords, preprocess, load_train_test_indices\n",
    "import numpy as np\n",
    "import pickle\n",
    "import pandas as pd\n",
    "import matplotlib.pyplot as plt\n",
    "from matplotlib import style\n",
    "style.use(\"ggplot\")\n",
    "from sklearn.model_selection import train_test_split\n",
    "import math\n",
    "from sklearn.svm import SVC\n",
    "from sklearn.feature_extraction.text import CountVectorizer\n",
    "from sklearn.metrics import classification_report, confusion_matrix, accuracy_score\n",
    "from nltk.stem.porter import PorterStemmer"
   ]
  },
  {
   "cell_type": "code",
   "execution_count": 2,
   "metadata": {
    "pycharm": {
     "name": "#%%\n"
    }
   },
   "outputs": [
    {
     "name": "stdout",
     "output_type": "stream",
     "text": [
      "Example of merged data :         Unnamed: 0                                              tweet  label\n",
      "28809       29029  More tools to ensure the full 20 second hand w...      1\n",
      "6695         6903  John and Edward Grimes have been praised on so...      1\n",
      "29773       29993  Can someone please explain to me why Governor ...      1\n",
      "31021       31242  Frequent hand washing is very important to pre...      1\n",
      "6844         7052  Update from the @minhealthnz Today there are n...      1\n",
      "27579       27799  WHO advice still stands: COVID-19 virus can be...      1\n",
      "23414       23634  Depression, Anxiety, PTSD May Plague Many COVI...      1\n",
      "18639       18857  #coronavirusFrance\\n\\nCDC says coronavirus RNA...      0\n",
      "25542       25762  @RobertZayasNY @NYSPHSAA Summer camps and day ...      1\n",
      "17411       17629  Vatican confirms Pope Francis and two aides te...      0\n"
     ]
    }
   ],
   "source": [
    "# read merged data\n",
    "df = pd.read_csv(\"../data/final_merged_dataset.csv\")\n",
    "print(\"Example of merged data : \", df.sample(10))"
   ]
  },
  {
   "cell_type": "code",
   "execution_count": 3,
   "metadata": {
    "pycharm": {
     "name": "#%%\n"
    }
   },
   "outputs": [
    {
     "name": "stdout",
     "output_type": "stream",
     "text": [
      "Example of processed data :  29533    coronavirus drug dexamethasone: covid-19 dexam...\n",
      "22341    remember one? “if look (hydroxychloroquine) su...\n",
      "5390     real sense, (oklahoma has) flattened curve. .....\n",
      "22358    free horses! 52 thoroughbred horses need homes...\n",
      "5612      58% coronavirus deaths scotland care facilities.\n",
      "Name: preprocess, dtype: object\n"
     ]
    }
   ],
   "source": [
    "# preprocessing data\n",
    "train, test, df = preprocess(df)\n",
    "train_indices, test_indices = load_train_test_indices()\n",
    "print(\"Example of processed data : \", train[\"preprocess\"].head(5))"
   ]
  },
  {
   "cell_type": "code",
   "execution_count": 4,
   "metadata": {
    "pycharm": {
     "name": "#%%\n"
    }
   },
   "outputs": [],
   "source": [
    "## vectorize texts and split train test dataset\n",
    "corpus = df[\"preprocess\"].tolist()\n",
    "vect =CountVectorizer(min_df=0.,max_df=1.0)\n",
    "X = vect.fit_transform(corpus)\n",
    "X_train = X[train_indices, :]\n",
    "X_test = X[test_indices, :]\n",
    "y_train = train[\"label\"]\n",
    "y_test = test[\"label\"]"
   ]
  },
  {
   "cell_type": "code",
   "execution_count": 19,
   "metadata": {
    "pycharm": {
     "name": "#%%\n"
    }
   },
   "outputs": [],
   "source": [
    "# svclassifier = SVC(kernel='linear')\n",
    "# svclassifier.fit(X_train, y_train)\n",
    "# save model\n",
    "# with open(\"../models/svm_v0.sav\", \"wb\") as f:\n",
    "#   pickle.dump(svclassifier, f)"
   ]
  },
  {
   "cell_type": "code",
   "execution_count": 17,
   "metadata": {
    "pycharm": {
     "name": "#%%\n"
    }
   },
   "outputs": [
    {
     "data": {
      "text/plain": [
       "0.8959700093720713"
      ]
     },
     "execution_count": 17,
     "metadata": {},
     "output_type": "execute_result"
    }
   ],
   "source": [
    "# reload model\n",
    "with open(\"../models/svm_v0.sav\", \"rb\") as f:\n",
    "  svclassifier = pickle.load(f)\n",
    "# Predicting the Test set results\n",
    "y_pred = svclassifier.predict(X_test)\n",
    "accuracy_score(y_test,y_pred)"
   ]
  },
  {
   "cell_type": "code",
   "execution_count": 14,
   "metadata": {
    "pycharm": {
     "name": "#%%\n"
    }
   },
   "outputs": [
    {
     "name": "stdout",
     "output_type": "stream",
     "text": [
      "ORIGINAL TWEET IS : \n",
      " I do really appreciate our Indian Government for this.. Giving a ray of hope to the Indians who are stuck in there.. But, they have to properly check their health status to confirm #Coronavirus negative..! https://t.co/Dijwh49VcJ \n",
      " PROCESSED TWEET IS : \n",
      " appreciate indian government this.. giving ray hope indians stuck there.. but, properly check health status confirm coronavirus negative..! \n",
      " has been classified as  0 and should be  1 \n",
      "\n",
      "ORIGINAL TWEET IS : \n",
      " The COVID-19 pandemic is causing a reduction in child vaccinations... here's the concerns associated with that... https://t.co/Z0YxrF1wsj #Covid_19 #COVID #coronavirus #childvaccinations #vaccinations https://t.co/EqqxnDXwO0 \n",
      " PROCESSED TWEET IS : \n",
      " covid-19 pandemic causing reduction child vaccinations... here's concerns associated that... covid19 covid coronavirus childvaccinations vaccinations \n",
      " has been classified as  0 and should be  1 \n",
      "\n",
      "ORIGINAL TWEET IS : \n",
      " @annaamatorights @rolynhome @mi6rogue They already know...\r\n",
      "\r\n",
      "Why do you think Goldman Sachs amongst others will be advising them what they can make and what they will loose.\r\n",
      "\r\n",
      "But Analytics can't Never work out this AIRBORNE DEADLY Virus. \r\n",
      "\r\n",
      "#CovidUK \r\n",
      "\r\n",
      "It's all about £££ to this Despicable Government. \n",
      " PROCESSED TWEET IS : \n",
      " know... think goldman sachs advising loose. analytics can't never work airborne deadly virus. coviduk it's £££ despicable government. \n",
      " has been classified as  1 and should be  0 \n",
      "\n",
      "ORIGINAL TWEET IS : \n",
      " @ChristineDompor @stgatchalian And by the numbers, COVID-19 has generally low fatality rate despite increasing cases. You look at the fatality rate - that's the real indication if a virus is deadly or not that \n",
      " PROCESSED TWEET IS : \n",
      " numbers, covid-19 generally low fatality rate despite increasing cases. look fatality rate - that's real indication virus deadly not \n",
      " has been classified as  0 and should be  1 \n",
      "\n",
      "ORIGINAL TWEET IS : \n",
      " RT @IIIDeaton: God already gave us the vaccine for the ONLY disease that leads to death ....SIN.  He loves all His creation and wants us wi… \n",
      " PROCESSED TWEET IS : \n",
      " god gave vaccine disease leads death ....sin. loves creation wants wi… \n",
      " has been classified as  1 and should be  0 \n",
      "\n",
      "ORIGINAL TWEET IS : \n",
      " @MobtownK @B_Hastings_EMA @AlabamaEMA @HarvardNPLI @ALEmergencyMgrs @NEMA_web @femaregion4 Prior to Mar 5, AL was, as were most states, sending testing for COVID-19 to the CDC. Less than 10 persons needed to be tested based upon clinical &amp; epidemiological info. Since AL began testing on Mar 5, at least 10 tests have been run as of March 9. None were positive. \n",
      " PROCESSED TWEET IS : \n",
      " prior mar 5, al was, states, sending testing covid-19 cdc. 10 persons needed tested based clinical &amp; epidemiological info. al began testing mar 5, 10 tests run march 9. positive. \n",
      " has been classified as  0 and should be  1 \n",
      "\n",
      "ORIGINAL TWEET IS : \n",
      " being in the library with other people is safe \n",
      " PROCESSED TWEET IS : \n",
      " library people safe \n",
      " has been classified as  1 and should be  0 \n",
      "\n",
      "ORIGINAL TWEET IS : \n",
      " They’d clearly been struggling with resolving the tests to people. But this makes the data before and after this date fundamentally dissimilar. There isn’t anything we can do. The time series for the nation’s largest state is just broken now. \n",
      " PROCESSED TWEET IS : \n",
      " they’d clearly struggling resolving tests people. makes data date fundamentally dissimilar. isn’t do. time series nation’s largest state broken now. \n",
      " has been classified as  0 and should be  1 \n",
      "\n",
      "ORIGINAL TWEET IS : \n",
      " n South Africa, a video claiming testing kits were contaminated was widely shared on social media.In the video, a man calls on South Africans to refuse swab tests, which check if someoneThe clip begins with the man having a swab stuck up his nose. \"Do not under any circumstances allow them to test you. There's a possibility that the swabs are contaminated with Covid-19,\" he says. currently has the virus.In the video, a man calls on South Africans to refuse swab tests, which check if someone currently has the virusHe alleges that people globally are saying the swabs are being used to spread the virus, and refers to reports in the UK that test kits there were contaminated.But this is misleading - the tests were giving false positive readings, it wasn't that the swabs were contaminated with the actual virus \n",
      " PROCESSED TWEET IS : \n",
      " n south africa, video claiming testing kits contaminated widely shared social media.in video, man calls south africans refuse swab tests, check someonethe clip begins man having swab stuck nose. \"do not circumstances allow test you. there's possibility swabs contaminated covid-19,\" says. currently virus.in video, man calls south africans refuse swab tests, check currently virushe alleges people globally saying swabs spread virus, refers reports uk test kits contaminated.but misleading - tests giving false positive readings, wasn't swabs contaminated actual virus \n",
      " has been classified as  0 and should be  1 \n",
      "\n",
      "ORIGINAL TWEET IS : \n",
      " Antiboitics are effective in preventing and treating the covid-19 virus \n",
      " PROCESSED TWEET IS : \n",
      " antiboitics effective preventing treating covid-19 virus \n",
      " has been classified as  1 and should be  0 \n",
      "\n"
     ]
    }
   ],
   "source": [
    "# Examples of wrong prediction\n",
    "n = 0\n",
    "for ind, (prediction, label) in enumerate(zip(y_pred, y_test)):\n",
    "  if prediction != label and n<10:\n",
    "    n = n+1\n",
    "    print(\"ORIGINAL TWEET IS : \\n\", test[\"tweet\"].iloc[ind], \"\\n\",\n",
    "          \"PROCESSED TWEET IS : \\n\", test[\"preprocess\"].iloc[ind], \"\\n\",\n",
    "                                'has been classified as ', prediction,\n",
    "                                'and should be ', label, \"\\n\")\n"
   ]
  }
 ],
 "metadata": {
  "kernelspec": {
   "display_name": "Python 3",
   "language": "python",
   "name": "python3"
  },
  "language_info": {
   "codemirror_mode": {
    "name": "ipython",
    "version": 3
   },
   "file_extension": ".py",
   "mimetype": "text/x-python",
   "name": "python",
   "nbconvert_exporter": "python",
   "pygments_lexer": "ipython3",
   "version": "3.8.3"
  }
 },
 "nbformat": 4,
 "nbformat_minor": 1
}
